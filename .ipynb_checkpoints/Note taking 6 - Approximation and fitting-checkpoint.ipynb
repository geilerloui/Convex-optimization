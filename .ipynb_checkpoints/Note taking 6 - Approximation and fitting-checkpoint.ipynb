{
 "cells": [
  {
   "cell_type": "markdown",
   "metadata": {},
   "source": [
    "If you have taken some advanced ML courses, we should know like if we take the duality of a maximum likelihood estimation problems. The dual are things that looks like maximum entropy or kullback libler divergence.\n",
    "\n"
   ]
  },
  {
   "cell_type": "markdown",
   "metadata": {},
   "source": [
    "# 6. Approximation and fitting\n",
    "\n",
    "* norm approximation\n",
    "* least-norm problems\n",
    "* regularized approximation\n",
    "* robust approximation\n",
    "\n",
    "It will overlap with statistics"
   ]
  },
  {
   "cell_type": "markdown",
   "metadata": {},
   "source": [
    "## 6.1 Norm approximation\n",
    "\n",
    "It is any norm on $R^m$ when we specify the norm it becomes a specific problem like regression ...\n",
    "\n",
    "$$\n",
    "||A \\mathbf{x} - b ||\n",
    "$$\n",
    "\n",
    "\n",
    "**<u>Examples:</u>**\n",
    "* we take the 2 norm: we get least-squares approximation\n",
    "* $||A \\mathbf{x} - b ||_{\\infty}$ we take the infinity norm: we get a Chebyshev approximation (other name: minimax fitting)\n",
    "    * we will see that this problem is not harder than least square, computationaliy speaking\n",
    "* $||A \\mathbf{x} - b ||_{1}$ we take a 1 norm: we get a sum of absolute residuals approximation\n",
    "    * we will see that this problem is not harder than least square, computationaliy speaking\n",
    "    * It is a robust estimator (modern statistic, ML ..)\n",
    "\n",
    "### Penalty function approximation\n",
    "\n",
    "It is a generalization of norm minimization, $r$ will be called the *residuals*, we will consider that we cannot get all the residuals to zero. We will penalize the sum of the penalty by a function $\\phi$. \n",
    "* quadratic: this is least square, we are okay with small residuals but not big ones\n",
    "* "
   ]
  },
  {
   "cell_type": "markdown",
   "metadata": {},
   "source": [
    "## 6.1 Norm approximation (dual of Norm approximation problem)\n"
   ]
  },
  {
   "cell_type": "markdown",
   "metadata": {},
   "source": []
  },
  {
   "cell_type": "markdown",
   "metadata": {},
   "source": [
    "## 6.3 Regularized approximation"
   ]
  },
  {
   "cell_type": "markdown",
   "metadata": {},
   "source": []
  },
  {
   "cell_type": "markdown",
   "metadata": {},
   "source": []
  },
  {
   "cell_type": "markdown",
   "metadata": {},
   "source": []
  },
  {
   "cell_type": "markdown",
   "metadata": {},
   "source": []
  },
  {
   "cell_type": "markdown",
   "metadata": {},
   "source": []
  },
  {
   "cell_type": "markdown",
   "metadata": {},
   "source": []
  },
  {
   "cell_type": "markdown",
   "metadata": {},
   "source": []
  },
  {
   "cell_type": "markdown",
   "metadata": {},
   "source": []
  }
 ],
 "metadata": {
  "kernelspec": {
   "display_name": "Python 3",
   "language": "python",
   "name": "python3"
  },
  "language_info": {
   "codemirror_mode": {
    "name": "ipython",
    "version": 3
   },
   "file_extension": ".py",
   "mimetype": "text/x-python",
   "name": "python",
   "nbconvert_exporter": "python",
   "pygments_lexer": "ipython3",
   "version": "3.6.8"
  }
 },
 "nbformat": 4,
 "nbformat_minor": 2
}
