{
 "cells": [
  {
   "cell_type": "markdown",
   "metadata": {},
   "source": [
    "## Cours Convex Optimization Problem\n",
    "\n"
   ]
  },
  {
   "cell_type": "code",
   "execution_count": null,
   "metadata": {},
   "outputs": [],
   "source": []
  },
  {
   "cell_type": "markdown",
   "metadata": {},
   "source": [
    "### 2. Convex optimization problems\n",
    "\n",
    "#### 2.1 \"Hello World\" in CVX\n",
    "\n",
    "Use CVX to verify the optimal values in the two cases given in the exercise above titled \"A simple problem\".\n",
    "\n",
    "\n",
    "$$\n",
    "minimize~~f_0(x_1, x_2) \\\\\n",
    "s.t.~~ 2x_1 + x_2 \\ge 1 \\\\\n",
    "~~~~ x_1 + 3 x_2 \\ge 1 \\\\\n",
    "~~~~ x_1 \\ge 0, x_2 \\ge 0\n",
    "$$\n",
    "\n",
    "When\n",
    "\n",
    "$$\n",
    "f_0(x_1, x_2) = x_1 + x_2 \n",
    "$$"
   ]
  },
  {
   "cell_type": "code",
   "execution_count": 1,
   "metadata": {},
   "outputs": [
    {
     "name": "stdout",
     "output_type": "stream",
     "text": [
      "status: optimal\n",
      "optimal value 0.5999999999116253\n",
      "optimal var [0.4 0.2]\n"
     ]
    }
   ],
   "source": [
    "# import cvxpy as cp\n",
    "import numpy as np\n",
    "import cvxpy as cp\n",
    "import matplotlib.pyplot as plt\n",
    "\n",
    "# Create two scalar optimization variables.\n",
    "x = cp.Variable(2)\n",
    "\n",
    "# Create four constraints\n",
    "constraints = [\n",
    "    np.array([2, 1]).T * x >= 1,\n",
    "    np.array([1, 3]).T * x  >= 1,\n",
    "    x >= 0\n",
    "]\n",
    "\n",
    "# Form objective.\n",
    "obj_1 = cp.Minimize(np.array([1,1]).T * x)\n",
    "\n",
    "# Form and solve problem.\n",
    "prob = cp.Problem(obj_1, constraints)\n",
    "prob.solve()  # Returns the optimal value.\n",
    "print(\"status:\", prob.status)\n",
    "print(\"optimal value\", prob.value)\n",
    "print(\"optimal var\", x.value)"
   ]
  },
  {
   "cell_type": "markdown",
   "metadata": {},
   "source": [
    "When \n",
    "\n",
    "$$\n",
    "f_0(x_1, x_2) = x_1^2 + 9 x_2^2 \n",
    "$$"
   ]
  },
  {
   "cell_type": "code",
   "execution_count": 2,
   "metadata": {},
   "outputs": [
    {
     "name": "stdout",
     "output_type": "stream",
     "text": [
      "status: optimal\n",
      "optimal value 0.49999999910199733\n",
      "optimal var [0.49999614 0.16666795]\n"
     ]
    }
   ],
   "source": [
    "# Form objective.\n",
    "obj_2 = cp.Minimize(np.array([1,9]).T * x**2)\n",
    "\n",
    "# Form and solve problem.\n",
    "prob = cp.Problem(obj_2, constraints)\n",
    "prob.solve()  # Returns the optimal value.\n",
    "print(\"status:\", prob.status)\n",
    "print(\"optimal value\", prob.value)\n",
    "print(\"optimal var\", x.value)"
   ]
  },
  {
   "cell_type": "markdown",
   "metadata": {},
   "source": [
    "## 2.2 Relaxation of Boolean LP\n",
    "\n",
    "In a Boolean linear program, the variable x is constrained to have components equal to zero or one:\n",
    "\n",
    "$$\n",
    "\\begin{array}{ll}\n",
    "\\mbox{minimize} & c^T x \\\\\n",
    "\\mbox{subject to} & Ax \\preceq b \\\\\n",
    "& x_i \\in \\{0,1 \\}, \\quad i=1,\\ldots,n.\n",
    "\\end{array}\n",
    "$$\n",
    "\n",
    "In general, such problems are very difficult to solve, even though the feasible set is finite (containing at most $2^n$ points).\n",
    "\n",
    "In a general method called relaxation, the constraint that $x_i$ be zero or one is replaced with the linear inequalities $0\\leq x_i \\leq 1$ :\n",
    "\n",
    "\n",
    "**The LP relaxation is:**\n",
    "\n",
    "$$\n",
    "\\begin{array}{ll}\n",
    "\\mbox{minimize} & c^T x \\\\\n",
    "\\mbox{subject to} & Ax \\preceq b\\\\\n",
    "& 0 \\leq x_i \\leq 1, \\quad i=1,\\ldots,n.\n",
    "\\end{array}\n",
    "$$\n",
    "\n",
    "We refer to this problem as the LP relaxation of the Boolean LP. The LP relaxation is far easier to solve than the original Boolean LP.\n",
    "\n"
   ]
  },
  {
   "cell_type": "markdown",
   "metadata": {},
   "source": [
    "## Heuristic suboptimal solution for Boolean LP\n",
    "\n",
    "This exercise builds on exercises 4.15 and 5.13 in Convex Optimization, which involve the Boolean LP\n",
    "\n",
    "$$\n",
    "\\begin{array}{ll}\\mbox{minimize} & c^Tx \\\\ \\mbox{subject to} & Ax \\preceq b\\\\ & x_i \\in \\{0,1\\}, \\quad i=1, \\ldots, n, \\end{array}\n",
    "$$\n",
    "\n",
    "with optimal value $p^*$. Let $x^{rlx}$ be a solution of the LP relaxation\n",
    "$$\n",
    "\\begin{array}{ll} \\mbox{minimize} & c^Tx \\\\\\mbox{subject to} & Ax \\preceq b\\\\ & 0 \\preceq  x \\preceq \\mathbf{1},\\end{array}\n",
    "$$\n",
    "\n",
    "\n",
    "so $L=c^T x^{rlx}$ is a lower bound on $p^*$. The relaxed solution $x^\\mathrm{rlx}$ can also be used to guess a Boolean point $\\hat{x}$, by rounding its entries, based on a threshold $t \\in [0,1]$\n",
    "\n",
    "$$\n",
    "\\hat x _i = \\left\\{ \\begin{array}{ll}1 & x^\\mathrm{rlx}_i \\geq t\\\\0 & \\mbox{otherwise}, \\end{array}\\right.\n",
    "$$\n",
    "\n",
    "for $i=1, \\ldots, n$. Evidently $\\hat x$ is Boolean (i.e. has entries in $\\{0,1\\}$ if it is feasible for the Boolean LP, i.e., if $A\\hat x \\preceq b$, then it can be considered a guess at a good, if not optimal, point for the Boolean LP. Its objective value, $U=c^T\\hat x$, is an upper bound on $p^*$. If $U$ and $L$ are close, then $\\hat x$ cannot be more than $(U-L)$-suboptimal for the Boolean LP.\n",
    "\n",
    "This rounding need not work; indeed, it can happen that for all threshold values, $\\hat x$ is infeasible. But for some problem instances, it can work well.\n",
    "\n",
    "Of course, there are many variations on this simple scheme for (possibly) constructing a feasible, good point from $x^{rlx}$.\n",
    "\n",
    "Finally, we get to the problem. Generate problem data using"
   ]
  },
  {
   "cell_type": "code",
   "execution_count": 3,
   "metadata": {},
   "outputs": [],
   "source": [
    "np.random.seed(0)\n",
    "n = 100\n",
    "m = 300\n",
    "A = np.random.rand(m,n);\n",
    "b = np.dot(A,np.ones((n,1)))/2\n",
    "c = -np.random.rand(n,1);"
   ]
  },
  {
   "cell_type": "markdown",
   "metadata": {},
   "source": [
    "**Meaning of the variables:**\n",
    "* $x_i$ is a job we either accept or decline\n",
    "* $-c_i$ as the (positive) revenue we generate if we accept job $i$\n",
    "* $Ax \\le b$ as a set of limits on $m$ resources\n",
    "* $A_{ij}$, which is positive, is the amount of resource $i$ consumed if we accept job $j$\n",
    "* $b_i$, which is positive, is the amount of resource $i$ available\n",
    "\n",
    "**Find a solution of the relaxed LP and examine its entries.**\n",
    "\n",
    "> **What is the associated Lower bound L ?** Equivalent to say we want to solve the relaxed problem"
   ]
  },
  {
   "cell_type": "code",
   "execution_count": 4,
   "metadata": {},
   "outputs": [
    {
     "name": "stdout",
     "output_type": "stream",
     "text": [
      "status: optimal\n",
      "optimal value -34.41722425996274\n",
      "optimal var [1.00000000e+00 9.50418017e-01 6.42033899e-11 1.00000000e+00\n",
      " 8.10921844e-01]\n"
     ]
    }
   ],
   "source": [
    "# Create one vector optimization variables.\n",
    "x = cp.Variable(n)\n",
    "\n",
    "# Create four constraints\n",
    "constraints = [\n",
    "    A*x[:, None] <= b,\n",
    "    x <= 1,\n",
    "    x >= 0\n",
    "]\n",
    "\n",
    "# Form objective.\n",
    "obj = cp.Minimize(np.transpose(c) * x)\n",
    "\n",
    "# Form and solve problem.\n",
    "prob = cp.Problem(obj, constraints)\n",
    "prob.solve()  # Returns the optimal value.\n",
    "print(\"status:\", prob.status)\n",
    "print(\"optimal value\", prob.value)\n",
    "# Vector of values generated\n",
    "print(\"optimal var\", x.value[0:5])"
   ]
  },
  {
   "cell_type": "markdown",
   "metadata": {},
   "source": [
    "Carry out threshold rounding for (say) $100$ values of $t$, uniformly spaced over $[0,1]$. For each value of $t$, note the objective value $c^T \\hat x$ and the maximum constraint violation $\\max_i (A\\hat x-b)_i$. \n",
    "\n",
    "> **Plot the objective value and the maximum violation versus $t$.**\n",
    "\n"
   ]
  },
  {
   "cell_type": "code",
   "execution_count": 5,
   "metadata": {},
   "outputs": [
    {
     "name": "stdout",
     "output_type": "stream",
     "text": [
      "0.0\r",
      "0.01\r",
      "0.02\r",
      "0.03\r",
      "0.04\r",
      "0.05\r",
      "0.06\r",
      "0.07\r",
      "0.08\r",
      "0.09\r",
      "0.1\r",
      "0.11\r",
      "0.12\r",
      "0.13\r",
      "0.14\r",
      "0.15\r",
      "0.16\r",
      "0.17\r",
      "0.18\r",
      "0.19\r",
      "0.2\r",
      "0.21\r",
      "0.22\r",
      "0.23\r",
      "0.24\r",
      "0.25\r",
      "0.26\r",
      "0.27\r",
      "0.28\r",
      "0.29\r",
      "0.3\r",
      "0.31\r",
      "0.32\r",
      "0.33\r",
      "0.34\r",
      "0.35000000000000003\r",
      "0.36\r",
      "0.37\r",
      "0.38\r",
      "0.39\r",
      "0.4\r",
      "0.41000000000000003\r",
      "0.42\r",
      "0.43\r",
      "0.44\r",
      "0.45\r",
      "0.46\r",
      "0.47000000000000003\r",
      "0.48\r",
      "0.49\r",
      "0.5\r",
      "0.51\r",
      "0.52\r",
      "0.53\r",
      "0.54\r",
      "0.55\r",
      "0.56\r",
      "0.5700000000000001\r",
      "0.58\r",
      "0.59\r",
      "0.6\r",
      "0.61\r",
      "0.62\r",
      "0.63\r",
      "0.64\r",
      "0.65\r",
      "0.66\r",
      "0.67\r",
      "0.68\r",
      "0.6900000000000001\r",
      "0.7000000000000001\r",
      "0.71\r",
      "0.72\r",
      "0.73\r",
      "0.74\r",
      "0.75\r",
      "0.76\r",
      "0.77\r",
      "0.78\r",
      "0.79\r",
      "0.8\r",
      "0.81\r",
      "0.8200000000000001\r",
      "0.8300000000000001\r",
      "0.84\r",
      "0.85\r",
      "0.86\r",
      "0.87\r",
      "0.88\r",
      "0.89\r",
      "0.9\r",
      "0.91\r",
      "0.92\r",
      "0.93\r",
      "0.9400000000000001\r",
      "0.9500000000000001\r",
      "0.96\r",
      "0.97\r",
      "0.98\r",
      "0.99\r",
      "1.0\r"
     ]
    },
    {
     "data": {
      "text/plain": [
       "Text(0,0.5,'max violation')"
      ]
     },
     "execution_count": 5,
     "metadata": {},
     "output_type": "execute_result"
    },
    {
     "data": {
      "image/png": "[encoded data removed]",
      "text/plain": [
       "<Figure size 432x288 with 1 Axes>"
      ]
     },
     "metadata": {
      "needs_background": "light"
     },
     "output_type": "display_data"
    }
   ],
   "source": [
    "thresh_array  = np.arange(0,1.01,0.01)\n",
    "maxviol, obj_val = [],[]\n",
    "for t in thresh_array:\n",
    "    print(t, end='\\r')\n",
    "    x_itr = x.value >= t\n",
    "    # += works as an \"append\", we take the max value of the vector\n",
    "    maxviol += [np.max(np.dot(A, x_itr) - b.T)]\n",
    "    # we take the dot product only with the \"ones\"\n",
    "    obj_val += [np.dot(c.T, x_itr)[0]]\n",
    "\n",
    "plt.plot(thresh_array,maxviol)\n",
    "plt.xlabel(\"threshold\")\n",
    "plt.ylabel(\"max violation\")"
   ]
  },
  {
   "cell_type": "code",
   "execution_count": 6,
   "metadata": {
    "scrolled": true
   },
   "outputs": [
    {
     "data": {
      "text/plain": [
       "Text(0,0.5,'objective')"
      ]
     },
     "execution_count": 6,
     "metadata": {},
     "output_type": "execute_result"
    },
    {
     "data": {
      "image/png": "[encoded data removed]",
      "text/plain": [
       "<Figure size 432x288 with 1 Axes>"
      ]
     },
     "metadata": {
      "needs_background": "light"
     },
     "output_type": "display_data"
    }
   ],
   "source": [
    "min_thresh = np.array(obj_val)[(np.asarray(maxviol)<=0)].min()\n",
    "plt.plot(thresh_array, np.ones_like(obj_val) * min_thresh)\n",
    "plt.plot(thresh_array,obj_val)\n",
    "plt.xlabel(\"threshold\")\n",
    "plt.ylabel(\"objective\")"
   ]
  },
  {
   "cell_type": "markdown",
   "metadata": {},
   "source": [
    "Find a value of $t$ for which $\\hat x$ is feasible, and gives minimum objective value, and note the associated upper bound $U$. \n",
    "\n",
    "> **What is the gap $U-L$ between the upper bound on $p^*$ and the lower bound on $p^*$ ?**"
   ]
  },
  {
   "cell_type": "code",
   "execution_count": 7,
   "metadata": {},
   "outputs": [
    {
     "data": {
      "text/plain": [
       "-0.8399729146557178"
      ]
     },
     "execution_count": 7,
     "metadata": {},
     "output_type": "execute_result"
    }
   ],
   "source": [
    "prob.value - min_thresh"
   ]
  },
  {
   "cell_type": "markdown",
   "metadata": {},
   "source": [
    "## 2.3 Simple portfolio optimization\n",
    "\n",
    "**Markowitz portfolio optimization:**\n",
    "\n",
    "----\n",
    "\n",
    "We consider a classical portfolio problem with $n$ assets or stocks held over a period of time. We let $x_i$ denote the amount of asset $i$ held throughout the period, with $x_i$ in dollars, at the price at the beginning of the period. A normal long position in asset $i$ corresponds to $x_i \\gt 0$; a short position in asset $i$ (i.e. the obligation to buy the asset at the end of the period) corresponds to $x_i < 0$. We let $p_i$ denote the relative price change of asset $i$ over the period, i.e. its change in price over thee period divided by its price at the beginning of the period. The overall return on the portfolio is $r = p^T x$ (given in dollars). The optimization variable is the portfolio vector $x \\in R ^n $.\n",
    "\n",
    "A wide variety of constraints on the portfolio can be considered. The simplest set of contraints is that $x_i \\ge 0$ (i.e. no short positions) and $\\mathbf{1}^T x = B$ (i.e. the total budget to be invested is $B$, which is often taken to be one).  \n",
    "We take a stochastic model for price changes: $p \\in R^n$ is a random vector, with known mean $ \\bar{p}$ and covariance $ \\Sigma$. Therefore with portfolio $x \\in R^n$, the return $r$ is a (scalar) random variable with mean $\\bar{p}^T x$ and variance $x^T \\Sigma x$. The choice of portfolio $x$ involves a trade-off between the mean of the return, and its variance.\n",
    "\n",
    "The classical portfolio optimization problem, introduced by Markowitz, is the QP.\n",
    "\n",
    "$$\n",
    "minimize~~ x^T \\Sigma x \\\\\n",
    "s.t. ~~ \\bar{p}^T x \\ge r_{min} \\\\\n",
    "~~~~~~ \\mathbf{1}^T x = 1 \\\\\n",
    "~~~~~~ x \\ge 0\n",
    "$$\n",
    "\n",
    "where $x \\in R^n$, the portfolio, is the variable.  Here we find the portfolio that minimizes the return variance (which is associated with the risk of the portfolio) subject to achieving a minimum acceptable mean return $r_{min}$ and satisfying the portfolio budget and no-shorting constraints.\n",
    "\n",
    "**Subject :**\n",
    "\n",
    "----\n",
    "\n",
    "\n",
    "We consider a portfolio optimization problem as described on ```pages 155 and 185–186 of the book```, with data that can be found in the file ```simple_portfolio_data.m```.\n"
   ]
  },
  {
   "cell_type": "code",
   "execution_count": 8,
   "metadata": {},
   "outputs": [],
   "source": [
    "# ---- Data Generation ---- #\n",
    "np.random.seed(5)\n",
    "n = 20\n",
    "# Covariance matrix\n",
    "S = np.random.rand(n,n)\n",
    "S = S.T.dot(S)\n",
    "S = S/np.max(np.abs(np.diag(S)))*.2\n",
    "S[:,-1] = 0\n",
    "S[-1,:] = 0\n",
    "\n",
    "# Uniform weight vector\n",
    "x_unif = np.ones((n,1)) / n\n",
    "\n",
    "# Price vector \n",
    "pbar = np.ones((n,1))*.03 + np.array(np.append(np.random.rand(n-1,1),0)).reshape((-1,1))*.12"
   ]
  },
  {
   "cell_type": "markdown",
   "metadata": {},
   "source": [
    "\n",
    "Find minimum-risk portfolios with the same expected return as the uniform portfolio $x=(1/n) ~ \\mathbf{1}$, with risk measured by portfolio return standard deviation, and the following portfolio constraints (in addition to $ \\mathbf{1}^Tx=1$).\n",
    "\n",
    "> **What is the risk of the uniform portfolio ?**\n"
   ]
  },
  {
   "cell_type": "code",
   "execution_count": null,
   "metadata": {},
   "outputs": [],
   "source": []
  },
  {
   "cell_type": "markdown",
   "metadata": {},
   "source": [
    "According to the [documentation](https://www.cvxpy.org/tutorial/functions/index.html) ```quad_form(x, P)``` is the mathematical expression $x^T P x$ , I guess according to the values of $P$ it knows if we minimize or not.\n",
    "* Below it is the Risk of the optimal portfolio"
   ]
  },
  {
   "cell_type": "markdown",
   "metadata": {},
   "source": [
    "> **What is the risk of an optimal portfolio with no (additional) constraints?**\n",
    "\n",
    "\n",
    "$$\n",
    "\\begin{array}{ll}\\mbox{minimize} & x^T \\Sigma x \\\\ \\mbox{subject to} & \\bar{p}^T x  = \\bar{p}^T (1/n) \\mathbf{ 1}\\\\ & \\mathbf{ 1}^T x = 1 \\end{array}\n",
    "$$\n"
   ]
  },
  {
   "cell_type": "code",
   "execution_count": 9,
   "metadata": {},
   "outputs": [
    {
     "name": "stdout",
     "output_type": "stream",
     "text": [
      "status: infeasible\n",
      "optimal value inf\n",
      "optimal var None\n"
     ]
    }
   ],
   "source": [
    "from cvxpy import quad_form\n",
    "from cvxpy import sum as cvxsum\n",
    "\n",
    "x_unconstrained = cp.Variable(n)\n",
    "\n",
    "constraints = [cvxsum(x_unconstrained) == 1,\n",
    "               pbar.T * x_unconstrained == x_unif.T * pbar\n",
    "              ]\n",
    "\n",
    "obj_3 = cp.Minimize(quad_form(x_unconstrained, S))\n",
    "prob = cp.Problem(obj_3, constraints)\n",
    "prob.solve()\n",
    "\n",
    "print(\"status:\", prob.status)\n",
    "print(\"optimal value\", prob.value)\n",
    "print(\"optimal var\", x_unconstrained.value)"
   ]
  },
  {
   "cell_type": "code",
   "execution_count": null,
   "metadata": {},
   "outputs": [],
   "source": []
  },
  {
   "cell_type": "markdown",
   "metadata": {},
   "source": [
    "> **What is the risk of a long-only portfolio** $x \\ge 0$ ?\n"
   ]
  },
  {
   "cell_type": "code",
   "execution_count": 10,
   "metadata": {},
   "outputs": [
    {
     "name": "stdout",
     "output_type": "stream",
     "text": [
      "status: infeasible\n",
      "optimal value inf\n",
      "optimal var None\n"
     ]
    }
   ],
   "source": [
    "x_long = cp.Variable(n)\n",
    "ret= x_long.T * pbar\n",
    "constraints = [cvxsum(x_long) == 1, x_long>=0,ret == x_unif.T * pbar]\n",
    "prob = cp.Problem(cp.Minimize(quad_form(x_long, S)), constraints)\n",
    "prob.solve()\n",
    "quad_form(x_long, S).value\n",
    "\n",
    "print(\"status:\", prob.status)\n",
    "print(\"optimal value\", prob.value)\n",
    "print(\"optimal var\", x_unconstrained.value)"
   ]
  },
  {
   "cell_type": "markdown",
   "metadata": {},
   "source": [
    "> **What is the risk of a portfolio with a limit on total short position:** $\\mathbf{1}^T(x_-) \\leq 0.5$, where $(x_-)_i = \\max\\{-x_i,0\\}$ ?\n"
   ]
  },
  {
   "cell_type": "code",
   "execution_count": null,
   "metadata": {},
   "outputs": [],
   "source": []
  },
  {
   "cell_type": "code",
   "execution_count": null,
   "metadata": {},
   "outputs": [],
   "source": []
  },
  {
   "cell_type": "code",
   "execution_count": null,
   "metadata": {},
   "outputs": [],
   "source": []
  },
  {
   "cell_type": "code",
   "execution_count": null,
   "metadata": {},
   "outputs": [],
   "source": []
  }
 ],
 "metadata": {
  "kernelspec": {
   "display_name": "Python 3",
   "language": "python",
   "name": "python3"
  },
  "language_info": {
   "codemirror_mode": {
    "name": "ipython",
    "version": 3
   },
   "file_extension": ".py",
   "mimetype": "text/x-python",
   "name": "python",
   "nbconvert_exporter": "python",
   "pygments_lexer": "ipython3",
   "version": "3.6.8"
  }
 },
 "nbformat": 4,
 "nbformat_minor": 2
}
