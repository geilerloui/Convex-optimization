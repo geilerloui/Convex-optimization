{
 "cells": [
  {
   "cell_type": "markdown",
   "metadata": {},
   "source": [
    "## Gradient and Newton methods\n",
    "\n",
    "Consider the unconstrained problem\n",
    "\n",
    "$$\n",
    "minimize ~~f(x)= - \\sum_{i=1}^{m} log(1 - a_i^Tx) - \\sum_{i=1}^{n} log (1 - x_i^2)\n",
    "$$\n",
    "\n",
    "with variable $x \\in R^n$, and $\\mathbf{dom} f = \\{x \\;|\\; a_i^Tx <1, ~i=1, \\ldots, m, ~|x_i| <1, ~i=1, \\ldots, n\\}$. This is the problem of computing the analytic center of the set of linear inequalities:\n",
    "\n",
    "$$\n",
    "a_i^Tx \\leq 1, \\quad i=1, \\ldots, m, \\qquad |x_i|\\leq 1,\\quad i=1, \\ldots, n.\n",
    "$$\n",
    "\n",
    "Note that we can choose $x^{(0)}=0$ as our initial point. You can generate instances of this problem by choosing $a_i$ from some distribution on $R^n$.\n",
    "\n",
    "(a) Use the gradient method to solve the problem, using reasonable choices for the backtracking parameters, and a stopping criterion of the form $\\| \\nabla f(x)\\|_2 \\leq \\eta$. Plot the objective function and step length versus iteration number. (Once you have determined $p^*$  to high accuracy, you can also plot $f-p^*$ versus iteration). Experiment with the backtracking parameters $\\alpha$ and $\\beta$  to see their effect on the total number of iterations required. Carry these experiments out for several instances of the problem, of different sizes.\n",
    "\n",
    "(b) Repeat using Newton's method, with stopping criterion based on the Newton decrement $\\lambda^2$. Look for quadratic convergence. You do not have to use an efficient method to compute the Newton step, as in exercise 9.27; you can use a general purpose dense solver, although it is better to use one that is based on a Cholesky factorization.\n",
    "\n",
    "Hints. We recommend the following to generate a problem instance:\n",
    "\n",
    "```\n",
    "n = 100;\n",
    "m = 200;\n",
    "randn('state',1);\n",
    "A=randn(m,n);\n",
    "```\n",
    "\n",
    "Of course, you should try out your code with different dimensions, and different data as well.\n",
    "\n",
    "In all cases, be sure that your line search first finds a step length for which the tentative point is in $domf$; if you attempt to evaluate $f$ outside its domain, you'll get complex numbers, and you'll never recover.\n",
    "\n",
    "To find expressions for $\\nabla f(x)$ and $\\nabla^2 f(x)$, use the chain rule (see Appendix A.4); if you attempt to compute $\\partial ^2 f(x)/\\partial x_i \\partial x_j$, you will be sorry. \n",
    "\n",
    "To compute the Newton step, you can use ```vnt=-H\\g```\n"
   ]
  },
  {
   "cell_type": "code",
   "execution_count": null,
   "metadata": {},
   "outputs": [],
   "source": []
  },
  {
   "cell_type": "markdown",
   "metadata": {},
   "source": [
    "## Efficient solution of basic portfolio optimization problem\n"
   ]
  },
  {
   "cell_type": "code",
   "execution_count": null,
   "metadata": {},
   "outputs": [],
   "source": []
  },
  {
   "cell_type": "markdown",
   "metadata": {},
   "source": [
    "## Sizing a gravith feed water supply network\n"
   ]
  },
  {
   "cell_type": "code",
   "execution_count": null,
   "metadata": {},
   "outputs": [],
   "source": []
  },
  {
   "cell_type": "markdown",
   "metadata": {},
   "source": [
    "## Flux balance analysis in systems biology\n"
   ]
  },
  {
   "cell_type": "code",
   "execution_count": null,
   "metadata": {},
   "outputs": [],
   "source": []
  },
  {
   "cell_type": "markdown",
   "metadata": {},
   "source": [
    "## Online advertising displays\n"
   ]
  },
  {
   "cell_type": "code",
   "execution_count": null,
   "metadata": {},
   "outputs": [],
   "source": []
  },
  {
   "cell_type": "markdown",
   "metadata": {},
   "source": [
    "## Ranking by aggregating preferences\n"
   ]
  },
  {
   "cell_type": "code",
   "execution_count": null,
   "metadata": {},
   "outputs": [],
   "source": []
  },
  {
   "cell_type": "code",
   "execution_count": null,
   "metadata": {},
   "outputs": [],
   "source": []
  },
  {
   "cell_type": "code",
   "execution_count": null,
   "metadata": {},
   "outputs": [],
   "source": []
  },
  {
   "cell_type": "code",
   "execution_count": null,
   "metadata": {},
   "outputs": [],
   "source": []
  }
 ],
 "metadata": {
  "kernelspec": {
   "display_name": "Python 3",
   "language": "python",
   "name": "python3"
  },
  "language_info": {
   "codemirror_mode": {
    "name": "ipython",
    "version": 3
   },
   "file_extension": ".py",
   "mimetype": "text/x-python",
   "name": "python",
   "nbconvert_exporter": "python",
   "pygments_lexer": "ipython3",
   "version": "3.6.8"
  }
 },
 "nbformat": 4,
 "nbformat_minor": 2
}
