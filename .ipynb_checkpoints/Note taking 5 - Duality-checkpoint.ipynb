{
 "cells": [
  {
   "cell_type": "markdown",
   "metadata": {},
   "source": [
    "### The Lagrangian\n",
    "\n",
    "We consider an optimization problem in the standard form:\n",
    "\n",
    "<img src=\"images/im4.png\" style=\"height:100px\">\n",
    "\n",
    "\n",
    "We define the *Lagrangian* associated with the problem above as\n",
    "\n",
    "<img src=\"images/im5.png\" style=\"height:75px\">\n",
    "\n",
    "\n",
    "The vectors $\\lambda$ and $\\nu$ are called *the dual variables* or *Lagrange multiplier vectors* associated with the problem 5.1\n"
   ]
  },
  {
   "cell_type": "markdown",
   "metadata": {},
   "source": [
    "\n",
    "### The Lagrange dual function\n",
    "\n",
    "<img src=\"images/im-6.png\" style=\"height:70px\">\n",
    "\n",
    "The dual function yields lower bounds on the optimal value $p^*$ of the problem (5.1):\n",
    "\n",
    "$$\n",
    "g(\\lambda, \\nu) \\le p^*\n",
    "$$\n"
   ]
  },
  {
   "cell_type": "markdown",
   "metadata": {},
   "source": [
    "\n",
    "### The Lagrange dual problem\n",
    "\n",
    "For each pair $(\\lambda, \\nu)$ with $\\lambda \\ge 0$, the Lagrange dual function gives us a lower bound on the optimal value $p^*$ of the optimization problem (5.1). <u>But what is the best lower bound ?</u> This leads to the optimization problem:\n",
    "\n",
    "<img src=\"images/im7.png\" style=\"height:70px\">\n",
    "\n",
    "We call it **the Lagrange dual problem** and (5.1) is **the primal problem**. <u>The dual problem is always convex</u>"
   ]
  },
  {
   "cell_type": "markdown",
   "metadata": {},
   "source": [
    "\n",
    "\n",
    "### Weak duality\n",
    "\n",
    "The optimal value of the Lagrange dual problem, which we denote $d^*$, is, by definition, the best lower bound on $p^*$ that can be obtained from the Lagrange dual function. We have\n",
    "$$\n",
    "d^* \\le p^*\n",
    "$$\n",
    "\n",
    "We call <u>optimal duality gap </u>\n",
    "\n",
    "$$\n",
    "p^* - d^*\n",
    "$$\n"
   ]
  },
  {
   "cell_type": "markdown",
   "metadata": {},
   "source": [
    "\n",
    "### Strong duality\n",
    "\n",
    "If the equality holds, we say: the optimal duality gap is zero, **strong duality holds**\n",
    "$$\n",
    "d^* = p^*\n",
    "$$\n",
    "\n",
    "It usually does not, in general, hold. One set of condition is <u>Slater's condition</u> if that holds, we have *strong duality*\n"
   ]
  },
  {
   "cell_type": "markdown",
   "metadata": {},
   "source": [
    "\n",
    "### Complementary slackness\n",
    "\n",
    "Assume $x^*$ is primal optimal. And we have dual optimal variables $(\\lambda^*, \\nu^*)$. We take a primal dual pair, we plug in any particular value of $x$ that we call $x^*$ so that we have the $\\le$. We get equality if and only if $x^*$ also minimizes the Lagrangian.\n",
    "\n",
    "Now we will observe that $x^*$ is feasible, so the $f_i \\le 0$ and $h_i =0$; so we can say that the full equation is $\\le f_0(x^*)$\n",
    "\n",
    "<img src=\"images/im9.png\" style=\"height:150px\">\n",
    "\n",
    "To get the equality on all the terms we must have the $\\sum \\lambda_i^* f_i(x^*)=0$ it is known as <u>complementary slackness</u>\n",
    "\n",
    "$$\n",
    "\\lambda_i^* \\gt 0 \\Rightarrow f_i(x^*)=0, ~~~~ f_i(x^*) \\gt 0 \\Rightarrow \\lambda_i^* =0\n",
    "$$\n",
    "\n"
   ]
  },
  {
   "cell_type": "markdown",
   "metadata": {},
   "source": [
    "\n",
    "\n",
    "### Karush-Kuhn-Tucker (KKT) conditions\n",
    "\n",
    "complementary slackness: whenever $\\lambda_i$ is positive, $f_i$ is zero. Or whenever $f_i(x)$ is negative, you must have $\\lambda_i = 0$ \n",
    "\n",
    "<img src=\"images/im8.png\" style=\"height:200px\">\n",
    "\n"
   ]
  },
  {
   "cell_type": "markdown",
   "metadata": {},
   "source": [
    "### KKT conditions for convex problem\n",
    "\n",
    "<img src=\"images/im10.png\" style=\"height:200px\">\n",
    "\n",
    "\n",
    "> **KKT conditions are the necessary and sufficient conditions for optimality for a convex optimization problem with equality and inequality constraints.**, considering the constraints are differentiable\n"
   ]
  },
  {
   "cell_type": "markdown",
   "metadata": {},
   "source": [
    "\n",
    "\n",
    "\n",
    "## Perturbation and sensitivity analysis\n",
    "\n",
    "### (unperturbed) optimization problem and its dual\n",
    "\n",
    "\n",
    "<img src=\"images/im1.png\" style=\"height:100px\">\n",
    "\n",
    "### (perturbed)  problem and its dual\n",
    "\n",
    "<img src=\"images/im2.png\" style=\"height:100px\">\n",
    "\n",
    "* $p^*(u,v)$ will be the optimal value of the perturbed problem as a function of $u$ and $v$, we can interpret it as how the optimal value change if we loose or tight the constraints\n",
    "* we are interested in information about $p^*(u,v)$ that we can obtain from the solution of the unperturbed problem and its dual\n",
    "* Interpretation of $u_i$: if we look at the unperturbed problem we know the basic value is 0; so if we increase $u_i$ (like 0.1) it would mean  we loosen the inequality. If we decrease it we tighten the inequality taking the risk that $p^*$ goes to $\\infty$\n",
    "\n",
    "We can apply **weak duality** to the perturbed problem:\n",
    "\n",
    "<img src=\"images/im3.png\" style=\"height:75px\">\n",
    "\n",
    " **sensitivity interpretation** if $\\lambda_i^*$ is large: $p^*$ increases greatly if we tighten contraint $i$ $(u_i \\lt 0)$\n",
    "\n",
    "<img src=\"images/im11.png\" style=\"height:150px\">\n"
   ]
  },
  {
   "cell_type": "code",
   "execution_count": null,
   "metadata": {},
   "outputs": [],
   "source": []
  },
  {
   "cell_type": "code",
   "execution_count": null,
   "metadata": {},
   "outputs": [],
   "source": []
  }
 ],
 "metadata": {
  "kernelspec": {
   "display_name": "Python 3",
   "language": "python",
   "name": "python3"
  },
  "language_info": {
   "codemirror_mode": {
    "name": "ipython",
    "version": 3
   },
   "file_extension": ".py",
   "mimetype": "text/x-python",
   "name": "python",
   "nbconvert_exporter": "python",
   "pygments_lexer": "ipython3",
   "version": "3.6.8"
  }
 },
 "nbformat": 4,
 "nbformat_minor": 2
}
