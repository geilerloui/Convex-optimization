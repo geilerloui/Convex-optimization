{
 "cells": [
  {
   "cell_type": "markdown",
   "metadata": {},
   "source": [
    "### 2. Convex optimization problems\n",
    "\n",
    "#### 2.1 \"Hello World\" in CVX\n",
    "\n",
    "\n",
    "$$\n",
    "minimize~~f_0(x_1, x_2) \\\\\n",
    "s.t.~~ 2x_1 + x_2 \\ge 1 \\\\\n",
    "~~~~ x_1 + 3 x_2 \\ge 1 \\\\\n",
    "~~~~ x_1 \\ge 0, x_2 \\ge 0\n",
    "$$\n",
    "\n",
    "Et les deux fonctions objectifs:\n",
    "\n",
    "$$\n",
    "f_0(x_1, x_2) = x_1 + x_2 \\\\\n",
    "f_0(x_1, x_2) = x_1^2 + 9 x_2^2 \n",
    "$$"
   ]
  },
  {
   "cell_type": "code",
   "execution_count": 7,
   "metadata": {},
   "outputs": [],
   "source": [
    "import cvxpy as cp\n",
    "\n",
    "# Create two scalar optimization variables.\n",
    "x1 = cp.Variable()\n",
    "x2 = cp.Variable()\n",
    "\n",
    "# Create four constraints\n",
    "constraints = [\n",
    "    2*x1 + x2 >=1,\n",
    "    x1 + 3*x2 >= 1,\n",
    "    x1 >= 0,\n",
    "    x2 >= 0\n",
    "]\n"
   ]
  },
  {
   "cell_type": "code",
   "execution_count": 8,
   "metadata": {},
   "outputs": [
    {
     "name": "stdout",
     "output_type": "stream",
     "text": [
      "status: optimal\n",
      "optimal value 0.5999999999116253\n",
      "optimal var 0.3999999999724491 0.1999999999391762\n"
     ]
    }
   ],
   "source": [
    "# Form objective.\n",
    "obj = cp.Minimize(x1 + x2)\n",
    "\n",
    "# Form and solve problem.\n",
    "prob = cp.Problem(obj, constraints)\n",
    "prob.solve()  # Returns the optimal value.\n",
    "print(\"status:\", prob.status)\n",
    "print(\"optimal value\", prob.value)\n",
    "print(\"optimal var\", x1.value, x2.value)"
   ]
  },
  {
   "cell_type": "code",
   "execution_count": 10,
   "metadata": {},
   "outputs": [
    {
     "name": "stdout",
     "output_type": "stream",
     "text": [
      "status: optimal\n",
      "optimal value 0.49999999910199733\n",
      "optimal var 0.49999614401180614 0.16666795201864573\n"
     ]
    }
   ],
   "source": [
    "# Form objective.\n",
    "obj = cp.Minimize(x1**2 + 9*x2**2)\n",
    "\n",
    "# Form and solve problem.\n",
    "prob = cp.Problem(obj, constraints)\n",
    "prob.solve()  # Returns the optimal value.\n",
    "print(\"status:\", prob.status)\n",
    "print(\"optimal value\", prob.value)\n",
    "print(\"optimal var\", x1.value, x2.value)"
   ]
  },
  {
   "cell_type": "markdown",
   "metadata": {},
   "source": [
    "#### 2.2 XXX\n",
    "\n",
    "**The LP relaxation is:**\n",
    "\n",
    "$$\n",
    "minimize~~c^Tx \\\\\n",
    "s.t.~ Ax \\le b \\\\\n",
    "~~~~~~~~~~~ 0 \\le x \\le 1\n",
    "$$\n",
    "\n",
    "Let $x^{rlx}$ be a solution of the LP relaxation, so $L=c^T x^{rlx}$ is a lower bound on $p^*$\n",
    "\n",
    "**Meaning of the variables:**\n",
    "* $x_i$ is a job we either accept or decline\n",
    "* $-c_i$ as the (positive) revenue we generate if we accept job $i$\n",
    "* $Ax \\le b$ as a set of limits on $m$ resources\n",
    "* $A_{ij}$, which is positive, is the amount of resource $i$ consumed if we accept job $j$\n",
    "* $b_i$, which is positive, is the amount of resource $i$ available"
   ]
  },
  {
   "cell_type": "code",
   "execution_count": 40,
   "metadata": {},
   "outputs": [
    {
     "name": "stdout",
     "output_type": "stream",
     "text": [
      "status: optimal\n",
      "optimal value -34.41722425996274\n",
      "optimal var [[1.00000000e+00]\n",
      " [9.50418017e-01]\n",
      " [6.42033899e-11]\n",
      " [1.00000000e+00]\n",
      " [8.10921844e-01]]\n"
     ]
    }
   ],
   "source": [
    "import numpy as np\n",
    "\n",
    "np.random.seed(0)\n",
    "n = 100     \n",
    "m = 300\n",
    "A = np.random.rand(m, n)\n",
    "b = np.matmul(A, np.ones((n, 1)))/2\n",
    "c = -np.random.rand(n, 1)\n",
    "\n",
    "# Create one vector optimization variables.\n",
    "x = cp.Variable((n,1))\n",
    "\n",
    "# Create four constraints\n",
    "constraints = [\n",
    "    A*x <= b,\n",
    "    x <= 1,\n",
    "    x >= 0\n",
    "]\n",
    "\n",
    "# Form objective.\n",
    "obj = cp.Minimize(np.transpose(c) * x)\n",
    "\n",
    "# Form and solve problem.\n",
    "prob = cp.Problem(obj, constraints)\n",
    "prob.solve()  # Returns the optimal value.\n",
    "print(\"status:\", prob.status)\n",
    "print(\"optimal value\", prob.value)\n",
    "# Vector of values generated\n",
    "print(\"optimal var\", x.value[0:5])"
   ]
  },
  {
   "cell_type": "markdown",
   "metadata": {},
   "source": [
    "**Follow-up:** \n",
    "\n",
    "The value $L=-34.417$ is a lower bound on $p^*$\n",
    "\n",
    "**Next exercise:**\n",
    "\n",
    "The relaxed solution $x^{rlx}$ can also be used to guess a Boolean point $\\hat{x}$, by rounding its entries, based on a threshold $t \\in [0,1]$:\n",
    "\n",
    "$$\n",
    "\\hat{x}_i = \n",
    "\\left \\{\n",
    "\\begin{array}{c @{=} c}\n",
    "    1 & x^{rlx} \\ge t \\\\\n",
    "    0 & otherwise \\\\\n",
    "\\end{array}\n",
    "\\right.\n",
    "$$\n",
    "\n",
    "Carry out threshold rounding for (say) 100 values of $t$, uniformly spaced over $[0,1]$. For each value of $t$, note the objective value $c^T \\hat{x}$ and the maximum constraint violation $max_i(A \\hat{x}-b)_i$. Plot the objective value and maximum violation versus $t$."
   ]
  },
  {
   "cell_type": "code",
   "execution_count": 109,
   "metadata": {},
   "outputs": [],
   "source": [
    "t = np.random.rand(100)\n",
    "\n",
    "# 1. Computation of x hat\n",
    "# Dimension of x_hat is:\n",
    "# nb of line is 100\n",
    "# nb of columns is dimension of x^rlx\n",
    "x_hat = np.ones((100, x.shape[0]))\n",
    "\n",
    "# Réflechir à comment on pourrait rendre ça plus beau\n",
    "i = 0\n",
    "j = 0\n",
    "\n",
    "for v in t:\n",
    "    for xo in x.value:\n",
    "        if xo < v:\n",
    "            x_hat[i][j] = 0\n",
    "        j = j + 1\n",
    "        \n",
    "    i = i + 1\n",
    "    j = 0\n",
    "    \n",
    "# 2. Computation of the objective function\n",
    "obj_value = np.ones((x.shape[0]))\n",
    "len_obj_value = len(obj_value)   \n",
    "\n",
    "for i in range(0, len_obj_value):\n",
    "    obj_value[i]  = np.dot(np.transpose(c), x_hat[i,:])\n",
    "    \n",
    "# 3. Compute the maximum violation value\n",
    "max_viol = np.ones((x.shape[0]))\n",
    "\n",
    "for i in range(0, len_obj_value):\n",
    "    max_viol[i] = np.amax(np.matmul(A, x_hat[i, :]) - b)"
   ]
  },
  {
   "cell_type": "code",
   "execution_count": 108,
   "metadata": {},
   "outputs": [
    {
     "data": {
      "text/plain": [
       "<matplotlib.axes._subplots.AxesSubplot at 0x107e57cc0>"
      ]
     },
     "execution_count": 108,
     "metadata": {},
     "output_type": "execute_result"
    },
    {
     "data": {
      "image/png": "[encoded data removed]",
      "text/plain": [
       "<Figure size 432x288 with 1 Axes>"
      ]
     },
     "metadata": {
      "needs_background": "light"
     },
     "output_type": "display_data"
    }
   ],
   "source": [
    "import seaborn as sns\n",
    "import pandas as pd\n",
    "\n",
    "df = pd.DataFrame({'t': t, 'obj_value': obj_value, 'max_viol': max_viol})\n",
    "\n",
    "ax = sns.scatterplot(x=\"t\", y=\"max_viol\", data=df)\n",
    "\n",
    "sns.scatterplot(x=\"t\", y=\"obj_value\", data=df, ax=ax)"
   ]
  },
  {
   "cell_type": "markdown",
   "metadata": {},
   "source": [
    "Find a value of $t$ for which $\\hat{x}$ is feasible, and gives minimum objective value, and note the associated upper bound $U$. What is the gap $U - L$ between the upper bound on $p^*$ and the lower bound on $p^*$.\n",
    "\n",
    "U = min(obj(find(maxviol<=0)))"
   ]
  },
  {
   "cell_type": "code",
   "execution_count": 111,
   "metadata": {},
   "outputs": [
    {
     "data": {
      "text/plain": [
       "(array([], dtype=int64),)"
      ]
     },
     "execution_count": 111,
     "metadata": {},
     "output_type": "execute_result"
    }
   ],
   "source": [
    "np.where(max_viol <= 0)"
   ]
  },
  {
   "cell_type": "code",
   "execution_count": 112,
   "metadata": {},
   "outputs": [
    {
     "data": {
      "text/plain": [
       "array([12.05918011,  8.6615211 , 11.73198298,  5.83482235, 12.05918011,\n",
       "       10.57588816,  7.11396115,  3.24453309,  7.9923633 , 12.00505126,\n",
       "        7.11396115,  5.77784199, 12.00505126, 11.73198298, 12.05918011,\n",
       "        5.77784199,  6.20095242,  4.78245095,  3.35953342, 12.37912226,\n",
       "       12.05918011,  6.20095242,  9.67174284, 10.57588816,  9.67174284,\n",
       "        8.6615211 ,  3.35953342, 12.00505126, 12.37912226,  8.6615211 ,\n",
       "       12.37912226,  7.11396115,  7.11396115,  7.9923633 , 12.05918011,\n",
       "        7.11396115, 12.00505126, 11.73198298,  5.83482235,  3.24453309,\n",
       "        4.78245095,  5.83482235,  4.78245095,  4.78245095,  8.6615211 ,\n",
       "        7.9923633 ,  6.20095242,  3.35953342, 12.37912226,  9.67174284,\n",
       "       12.37912226, 10.57588816,  3.35953342,  3.35953342,  8.6615211 ,\n",
       "        8.6615211 ,  4.78245095, 12.00505126, 10.57588816,  8.6615211 ,\n",
       "       12.00505126, 12.37912226,  9.67174284,  5.83482235, 10.57588816,\n",
       "       12.37912226,  3.24453309,  3.35953342,  6.20095242,  3.24453309,\n",
       "        4.78245095, 12.37912226,  6.20095242,  7.11396115, 11.73198298,\n",
       "        4.78245095, 11.73198298, 10.57588816,  8.6615211 ,  5.77784199,\n",
       "       12.37912226,  5.83482235, 12.37912226, 12.05918011,  4.78245095,\n",
       "       12.37912226, 10.57588816, 12.00505126,  6.20095242, 12.37912226,\n",
       "       12.05918011,  3.24453309,  8.6615211 ,  6.20095242, 12.37912226,\n",
       "        7.11396115,  3.35953342,  7.11396115,  8.6615211 , 12.37912226])"
      ]
     },
     "execution_count": 112,
     "metadata": {},
     "output_type": "execute_result"
    }
   ],
   "source": [
    "max_viol"
   ]
  },
  {
   "cell_type": "markdown",
   "metadata": {},
   "source": [
    "#### 2.3 Simple portfolio optimization\n",
    "\n",
    "We consider a portfolio optimization problem as described on pages 155 and 185–186 of the book, with data that can be found in the file simple_portfolio_data.m.\n",
    "\n",
    "Find minimum-risk portfolios with the same expected return as the uniform portfolio $x=(1/n)1$, with risk measured by portfolio return standard deviation, and the following portfolio constraints (in addition to $\\mathcal{1}^Tx=1$).\n",
    "\n",
    "What is the risk of the uniform portfolio ?\n"
   ]
  },
  {
   "cell_type": "code",
   "execution_count": null,
   "metadata": {},
   "outputs": [],
   "source": []
  },
  {
   "cell_type": "code",
   "execution_count": null,
   "metadata": {},
   "outputs": [],
   "source": []
  }
 ],
 "metadata": {
  "kernelspec": {
   "display_name": "Python 3",
   "language": "python",
   "name": "python3"
  },
  "language_info": {
   "codemirror_mode": {
    "name": "ipython",
    "version": 3
   },
   "file_extension": ".py",
   "mimetype": "text/x-python",
   "name": "python",
   "nbconvert_exporter": "python",
   "pygments_lexer": "ipython3",
   "version": "3.6.8"
  }
 },
 "nbformat": 4,
 "nbformat_minor": 2
}
