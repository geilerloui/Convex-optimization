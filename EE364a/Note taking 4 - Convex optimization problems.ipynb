{
 "cells": [
  {
   "cell_type": "markdown",
   "metadata": {},
   "source": [
    "## 4. Convex optimization problems\n",
    "\n",
    "<img src=\"images/im12.png\" style=\"height:275px\">\n",
    "\n",
    "\n",
    "<img src=\"images/im13.png\" style=\"height:200px\">\n",
    "\n",
    "Other similar definition :\n",
    "<img src=\"images/im14.png\" style=\"height:100px\">\n",
    "\n",
    "**Example:**\n",
    "\n",
    "We can define a neighborhood for which the solution drawn around the region, the shaded part is a feasible solution we have two\n",
    "\n",
    "<img src=\"images/im15.png\" style=\"height:200px\">\n"
   ]
  },
  {
   "cell_type": "code",
   "execution_count": null,
   "metadata": {},
   "outputs": [],
   "source": []
  },
  {
   "cell_type": "code",
   "execution_count": null,
   "metadata": {},
   "outputs": [],
   "source": []
  },
  {
   "cell_type": "code",
   "execution_count": null,
   "metadata": {},
   "outputs": [],
   "source": []
  },
  {
   "cell_type": "code",
   "execution_count": null,
   "metadata": {},
   "outputs": [],
   "source": []
  },
  {
   "cell_type": "code",
   "execution_count": null,
   "metadata": {},
   "outputs": [],
   "source": []
  }
 ],
 "metadata": {
  "kernelspec": {
   "display_name": "Python 3",
   "language": "python",
   "name": "python3"
  },
  "language_info": {
   "codemirror_mode": {
    "name": "ipython",
    "version": 3
   },
   "file_extension": ".py",
   "mimetype": "text/x-python",
   "name": "python",
   "nbconvert_exporter": "python",
   "pygments_lexer": "ipython3",
   "version": "3.6.8"
  }
 },
 "nbformat": 4,
 "nbformat_minor": 2
}
