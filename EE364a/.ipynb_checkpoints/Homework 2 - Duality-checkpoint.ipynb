{
 "cells": [
  {
   "cell_type": "markdown",
   "metadata": {},
   "source": [
    "### 3. Duality\n",
    "\n",
    "#### 3.1 Numerical perturbation analysis example\n",
    "\n",
    "Consider the quadratic program\n",
    "\n",
    "\\begin{array}{ll}\\mbox{minimize} & x_1^2 + 2x_2^2 -x_1 x_2 - x_1\\\\ \\mbox{subject to} & x_1 + 2 x_2 \\leq u_1 \\\\ & x_1 - 4x_2 \\leq u_2, \\\\& x_1+ x_2 \\geq -5, \\end{array}\n",
    "\n",
    "with variables $x_1$, $x_2$, and parameters $u_1$, $u_2$.\n",
    "\n",
    "(a) Solve this QP, for parameter values $u_1=-2$, $u_2=-3$, to find optimal primal variable values $x^\\star_1$ and $x_2^\\star$, and optimal dual variable values $\\lambda_1^\\star$, $\\lambda_2^\\star$ and $\\lambda_3^\\star$. Let $p^\\star$ denote the optimal objective value. <u>Verify that the KKT conditions hold for the optimal primal and dual variables you found</u> (within reasonable numerical accuracy).\n",
    "\n",
    "We recall that the quadratic form of a product of matrices is:\n",
    "\n",
    "$$\n",
    "\\begin{bmatrix} \n",
    "x_1 & x_2\n",
    "\\end{bmatrix}\n",
    "\\begin{bmatrix} \n",
    "a & b \\\\\n",
    "c & d \n",
    "\\end{bmatrix}\n",
    "\\begin{bmatrix} \n",
    "x_1  \\\\\n",
    "x_2 \n",
    "\\end{bmatrix}\n",
    "= ax_1^2 + (c+b) \\times x_1x_2+dx_2^2\n",
    "$$"
   ]
  },
  {
   "cell_type": "markdown",
   "metadata": {},
   "source": [
    "Hint: See $\\S$4.7 of the CVX users' guide to find out how to retrieve optimal dual variables. To specify the quadratic objective, use quad_form().\n",
    "\n",
    "> **What is $x_2^\\star$? Enter your result rounded to two decimal places.**"
   ]
  },
  {
   "cell_type": "code",
   "execution_count": 22,
   "metadata": {},
   "outputs": [],
   "source": [
    "0.16666667;"
   ]
  },
  {
   "cell_type": "markdown",
   "metadata": {},
   "source": [
    "\n",
    "> **What is $\\lambda_3^\\star$? Enter your result rounded to two decimal places.**"
   ]
  },
  {
   "cell_type": "code",
   "execution_count": 23,
   "metadata": {},
   "outputs": [],
   "source": [
    "6.60686772272851e-09;"
   ]
  },
  {
   "cell_type": "code",
   "execution_count": 24,
   "metadata": {},
   "outputs": [
    {
     "name": "stdout",
     "output_type": "stream",
     "text": [
      "optimal x1 + 2*x2 <= u1 \tdual variable [3.38882023]\n",
      "optimal x1 -4 *x2 <= u2 \tdual variable [2.44439742]\n",
      "optimal x1+x2 >= -5 \tdual variable [6.60686772e-09]\n",
      "x value:\t\t [[-2.33333333  0.16666667]]\n",
      "status: optimal\n",
      "optimal value 8.222222115904906\n",
      "optimal var [[-2.33333333]\n",
      " [ 0.16666667]]\n"
     ]
    }
   ],
   "source": [
    "import cvxpy as cp\n",
    "import numpy as np\n",
    "import pandas as pd\n",
    "\n",
    "# By choosing u_i negative we tighten the inequalities\n",
    "# Taking the risk that the optimal value of the perturbed problem\n",
    "# p^* to blow up\n",
    "x = cp.Variable((2,1))\n",
    "u1 = cp.Constant(-2)\n",
    "u2 = cp.Constant(-3)\n",
    "u3 = cp.Constant(-5)\n",
    "\n",
    "Q = np.array([[1, -1/2], [-1/2, 2]])\n",
    "f = np.array([-1, 0])\n",
    "\n",
    "# Create three constraints\n",
    "constraints = [x[0] + 2*x[1] <= u1,\n",
    "               x[0] -4 *x[1] <= u2,\n",
    "               x[0] + x[1] >= u3]\n",
    "\n",
    "obj = cp.Minimize(cp.quad_form(x, Q) + np.transpose(f)*x)\n",
    "\n",
    "# Form and solve problem.\n",
    "prob = cp.Problem(obj, constraints)\n",
    "prob.solve()\n",
    "\n",
    "# The optimal dual variable (Lagrange multiplier) for\n",
    "# a constraint is stored in constraint.dual_value.\n",
    "print(\"optimal x1 + 2*x2 <= u1 \\tdual variable\", constraints[0].dual_value)\n",
    "print(\"optimal x1 -4 *x2 <= u2 \\tdual variable\", constraints[1].dual_value)\n",
    "print(\"optimal x1+x2 >= -5 \\tdual variable\", constraints[2].dual_value)\n",
    "print(\"x value:\\t\\t\", x.value.T)\n",
    "# Optimal values\n",
    "print(\"status:\", prob.status)\n",
    "print(\"optimal value\", prob.value)\n",
    "# Vector of values generated\n",
    "print(\"optimal var\", x.value[0:5])"
   ]
  },
  {
   "cell_type": "markdown",
   "metadata": {},
   "source": [
    "> **Check the KKT conditions :**\n",
    "1. $f_i(x) \\le 0$\n",
    "2. $\\lambda_i \\ge 0$\n",
    "3. complementary slackness: $\\lambda_i f_i(x) =0$\n",
    "4. gradient of lagrangien with respect to x vanishes"
   ]
  },
  {
   "cell_type": "code",
   "execution_count": 25,
   "metadata": {},
   "outputs": [
    {
     "name": "stdout",
     "output_type": "stream",
     "text": [
      "[ True]\n",
      "[False]\n",
      "[ True]\n",
      "[3.38882023] [2.44439742] [6.60686772e-09]\n",
      "[-3.12214541e-10]\n",
      "[7.44560172e-09]\n",
      "[-1.87194586e-08]\n",
      "[[-1.15684039e-04  5.07772145e-05]]\n"
     ]
    }
   ],
   "source": [
    "lambd1,lambd2, lambd3  = [lambd.dual_value for lambd in constraints]\n",
    "# 1. Fist condition\n",
    "# -> Second inequality not OK\n",
    "print(x[0].value+ 2*x[1].value - u1.value <= 0)\n",
    "print(x[0].value - 4 *x[1].value - u2.value <= 0)\n",
    "print(x[0].value + x[1].value - u3.value >= 0)\n",
    "\n",
    "# 2. Second condition: all the dual variables are greater than 0\n",
    "# -> OK\n",
    "print(lambd1,lambd2, lambd3)\n",
    "\n",
    "# 3. The should be zero or very close to zero\n",
    "# -> OK\n",
    "print(lambd1 * (x[0].value+ 2*x[1].value -u1.value))\n",
    "print(lambd2 * (x[0].value - 4 *x[1].value -u2.value))\n",
    "print(lambd3 * (-x[0].value + -x[1].value -5))\n",
    "\n",
    "# 4. gradient of the lagrangien should be close to zero\n",
    "L = np.dot(x.value.T,(2*Q)) + f  \\\n",
    "                            + lambd1*np.array([1,2]) \\\n",
    "                            + lambd2*np.array([1,-4]) \\\n",
    "                            + lambd3*np.array([-1,-1])\n",
    "print(L)\n"
   ]
  },
  {
   "cell_type": "markdown",
   "metadata": {},
   "source": [
    "> **The first condition is not verified, we do not have an optimal solution**"
   ]
  },
  {
   "cell_type": "markdown",
   "metadata": {},
   "source": [
    "---------\n",
    "\n",
    "(b) We will now solve some perturbed versions of the QP, with\n",
    "\n",
    "$$\n",
    "u_1 = -2 + \\delta_1, \\qquad u_2 = -3 + \\delta_2\n",
    "$$\n",
    "\n",
    "where $\\delta_1$ and $\\delta_2$ each take values from $\\{-0.1, 0, 0.1\\}$. (There are a total of nine such combinations, including the original problem with $\\delta_1=\\delta_2=0$.) For each combination of $\\delta_1$ and $\\delta_2$, make a prediction $p^\\star_\\mathrm{pred}$ of the optimal value of the perturbed QP, and compare it to $p^\\star_\\mathrm{exact}$, the exact optimal value of the perturbed QP (obtained by solving the perturbed QP). Find the values that belong in the two righthand columns in a table with the form shown below. Check that the inequality $p^\\star_\\mathrm{pred} \\leq p^\\star_\\mathrm{exact}$ holds.\n",
    "\n",
    "\\begin{array}{|r||r|r|r|r|}\\hline\\mathrm{\\#}&\\delta_1 & \\delta_2 & p^\\star_\\mathrm{pred} & p^\\star_\\mathrm{exact}\\\\\\hline1&0 & 0 & & \\\\2&0 & -0.1 & & \\\\3&0 & 0.1 & & \\\\\\hline4&-0.1 & 0 & & \\\\5&-0.1 & -0.1 & & \\\\6&-0.1 & 0.1 & & \\\\\\hline7&0.1 & 0 & & \\\\8&0.1 & -0.1 & & \\\\9&0.1 & 0.1 & & \\\\\\hline\\end{array}\n",
    "\n",
    "> **For which perturbations (other than number 1) is $p^\\star_\\mathrm{exact}-p^\\star_\\mathrm{pred}$ the smallest?**\n",
    "\n",
    "Note that the predicted optimal value is given by:\n",
    "$$\n",
    "p_{pred}^* = p^* - \\lambda_1^* \\delta_1 - \\lambda_2^* \\delta_2\n",
    "$$\n",
    "\n",
    "* ```prob.value```is $p^*$\n",
    "* ```constraints[0].dual_value``` is $\\lambda_1$\n",
    "* ```constraints[1].dual_value``` is $\\lambda_2$"
   ]
  },
  {
   "cell_type": "code",
   "execution_count": 26,
   "metadata": {},
   "outputs": [],
   "source": [
    "delta1 = [0, 0, 0, -0.1, -0.1, -0.1, 0.1, 0.1, 0.1]\n",
    "delta2 = [0, -0.1, 0.1, 0, -0.1, 0.1, 0, -0.1, 0.1] \n",
    "\n",
    "df = pd.DataFrame({\"delta1\": delta1, \"delta2\": delta2,\n",
    "                   \"p*pred\": [0]*len(delta1), \"p*exact\": [prob.value]*len(delta1),\n",
    "                   \"duality_gap\": [0]*len(delta1)})\n",
    "df_temp = df.copy()\n",
    "\n",
    "for idx, row in df.iterrows():\n",
    "    # Predicted value\n",
    "    df_temp.loc[idx, \"p*pred\"] = prob.value - constraints[0].dual_value * row['delta1']\\\n",
    "                                            - constraints[1].dual_value * row['delta2']\n",
    "    \n",
    "    # Exact value\n",
    "    constraints = [x[0] + 2*x[1] <= u1 + row['delta1'],\n",
    "                   x[0] -4 *x[1] <= u2 + row['delta2'],\n",
    "                   -x[0] - x[1] <= -u3]\n",
    "\n",
    "    obj = cp.Minimize(cp.quad_form(x, Q) + np.transpose(f)*x)\n",
    "\n",
    "    # Form and solve problem.\n",
    "    prob = cp.Problem(obj, constraints)\n",
    "    prob.solve()\n",
    "    \n",
    "    df_temp.loc[idx, \"p*exact\"] = prob.value"
   ]
  },
  {
   "cell_type": "code",
   "execution_count": 27,
   "metadata": {},
   "outputs": [],
   "source": [
    "df_temp[\"duality_gap\"] = df_temp[\"p*exact\"] - df_temp[\"p*pred\"]"
   ]
  },
  {
   "cell_type": "code",
   "execution_count": 28,
   "metadata": {},
   "outputs": [
    {
     "data": {
      "text/html": [
       "<div>\n",
       "<style scoped>\n",
       "    .dataframe tbody tr th:only-of-type {\n",
       "        vertical-align: middle;\n",
       "    }\n",
       "\n",
       "    .dataframe tbody tr th {\n",
       "        vertical-align: top;\n",
       "    }\n",
       "\n",
       "    .dataframe thead th {\n",
       "        text-align: right;\n",
       "    }\n",
       "</style>\n",
       "<table border=\"1\" class=\"dataframe\">\n",
       "  <thead>\n",
       "    <tr style=\"text-align: right;\">\n",
       "      <th></th>\n",
       "      <th>delta1</th>\n",
       "      <th>delta2</th>\n",
       "      <th>p*pred</th>\n",
       "      <th>p*exact</th>\n",
       "      <th>duality_gap</th>\n",
       "    </tr>\n",
       "  </thead>\n",
       "  <tbody>\n",
       "    <tr>\n",
       "      <th>0</th>\n",
       "      <td>0.0</td>\n",
       "      <td>0.0</td>\n",
       "      <td>8.222222</td>\n",
       "      <td>8.222222</td>\n",
       "      <td>0.000000</td>\n",
       "    </tr>\n",
       "    <tr>\n",
       "      <th>1</th>\n",
       "      <td>0.0</td>\n",
       "      <td>-0.1</td>\n",
       "      <td>8.466662</td>\n",
       "      <td>8.468889</td>\n",
       "      <td>0.002227</td>\n",
       "    </tr>\n",
       "    <tr>\n",
       "      <th>2</th>\n",
       "      <td>0.0</td>\n",
       "      <td>0.1</td>\n",
       "      <td>8.219997</td>\n",
       "      <td>7.980000</td>\n",
       "      <td>-0.239997</td>\n",
       "    </tr>\n",
       "    <tr>\n",
       "      <th>3</th>\n",
       "      <td>-0.1</td>\n",
       "      <td>0.0</td>\n",
       "      <td>8.314998</td>\n",
       "      <td>8.565000</td>\n",
       "      <td>0.250002</td>\n",
       "    </tr>\n",
       "    <tr>\n",
       "      <th>4</th>\n",
       "      <td>-0.1</td>\n",
       "      <td>-0.1</td>\n",
       "      <td>9.160015</td>\n",
       "      <td>8.815556</td>\n",
       "      <td>-0.344460</td>\n",
       "    </tr>\n",
       "    <tr>\n",
       "      <th>5</th>\n",
       "      <td>-0.1</td>\n",
       "      <td>0.1</td>\n",
       "      <td>8.913334</td>\n",
       "      <td>8.318889</td>\n",
       "      <td>-0.594445</td>\n",
       "    </tr>\n",
       "    <tr>\n",
       "      <th>6</th>\n",
       "      <td>0.1</td>\n",
       "      <td>0.0</td>\n",
       "      <td>7.976122</td>\n",
       "      <td>7.887222</td>\n",
       "      <td>-0.088900</td>\n",
       "    </tr>\n",
       "    <tr>\n",
       "      <th>7</th>\n",
       "      <td>0.1</td>\n",
       "      <td>-0.1</td>\n",
       "      <td>7.796667</td>\n",
       "      <td>8.130000</td>\n",
       "      <td>0.333333</td>\n",
       "    </tr>\n",
       "    <tr>\n",
       "      <th>8</th>\n",
       "      <td>0.1</td>\n",
       "      <td>0.1</td>\n",
       "      <td>7.550005</td>\n",
       "      <td>7.648889</td>\n",
       "      <td>0.098884</td>\n",
       "    </tr>\n",
       "  </tbody>\n",
       "</table>\n",
       "</div>"
      ],
      "text/plain": [
       "   delta1  delta2    p*pred   p*exact  duality_gap\n",
       "0     0.0     0.0  8.222222  8.222222     0.000000\n",
       "1     0.0    -0.1  8.466662  8.468889     0.002227\n",
       "2     0.0     0.1  8.219997  7.980000    -0.239997\n",
       "3    -0.1     0.0  8.314998  8.565000     0.250002\n",
       "4    -0.1    -0.1  9.160015  8.815556    -0.344460\n",
       "5    -0.1     0.1  8.913334  8.318889    -0.594445\n",
       "6     0.1     0.0  7.976122  7.887222    -0.088900\n",
       "7     0.1    -0.1  7.796667  8.130000     0.333333\n",
       "8     0.1     0.1  7.550005  7.648889     0.098884"
      ]
     },
     "execution_count": 28,
     "metadata": {},
     "output_type": "execute_result"
    }
   ],
   "source": [
    "df_temp"
   ]
  },
  {
   "cell_type": "markdown",
   "metadata": {},
   "source": [
    "## A simple example\n",
    "\n",
    "Consider the optimization problem; note that the constraint is not convex, we cannot solve it directly. We will be using the dual instead\n",
    "\n",
    "$$\n",
    "\\begin{array}{ll} \\mbox{minimize}   & x^2 + 1 \\\\\\mbox{subject to} & (x-2)(x-4) \\leq 0,\\end{array}\n",
    "$$\n",
    "\n",
    "with variable $x \\in R$\n",
    "\n",
    "> **Analysis of primal problem. What is the optimal value ? **"
   ]
  },
  {
   "cell_type": "code",
   "execution_count": null,
   "metadata": {},
   "outputs": [],
   "source": [
    "import holoviews as hv\n",
    "hv.extension('bokeh')"
   ]
  },
  {
   "cell_type": "code",
   "execution_count": null,
   "metadata": {},
   "outputs": [],
   "source": [
    "x = np.linspace(-5,5,100)\n",
    "y = x**2 + 1\n",
    "y_fun = lambda x: x**2+1\n",
    "lagrangian_fun = lambda lambd: (1+lambd)*(x**2) -6*x*lambd + 1+8*lambd\n",
    "x_feas_set = np.linspace(2,4,1000)\n",
    "y_feas_set = 0"
   ]
  },
  {
   "cell_type": "code",
   "execution_count": null,
   "metadata": {},
   "outputs": [],
   "source": [
    "fig_list = dict()\n",
    "fig_prim = hv.Curve((x, x**2 + 1))\n",
    "fig_feas = hv.Spread((x_feas_set, y_feas_set, 1000))\\\n",
    "            .options(fill_color='indianred', fill_alpha=.3,line_color='indianred')\n",
    "fig_sol = hv.Arrow(2,y_fun(2), 'primal_sol', 'v')\n",
    "fig = fig_feas * fig_sol * fig_prim\n",
    "for l in np.arange(0,8,0.1):\n",
    "     fig *= hv.Scatter((x, lagrangian_fun(l)))\\\n",
    "        .options(color='mediumslateblue',size=0.5)\n",
    "fig.options(width=600, height=600)\n",
    "# "
   ]
  },
  {
   "cell_type": "code",
   "execution_count": null,
   "metadata": {},
   "outputs": [],
   "source": []
  },
  {
   "cell_type": "markdown",
   "metadata": {},
   "source": [
    "## Lagrangian relaxation of Boolean LP"
   ]
  },
  {
   "cell_type": "code",
   "execution_count": null,
   "metadata": {},
   "outputs": [],
   "source": []
  },
  {
   "cell_type": "code",
   "execution_count": null,
   "metadata": {},
   "outputs": [],
   "source": []
  },
  {
   "cell_type": "markdown",
   "metadata": {},
   "source": [
    "## Option Price Bounds"
   ]
  },
  {
   "cell_type": "code",
   "execution_count": null,
   "metadata": {},
   "outputs": [],
   "source": []
  },
  {
   "cell_type": "code",
   "execution_count": null,
   "metadata": {},
   "outputs": [],
   "source": []
  },
  {
   "cell_type": "code",
   "execution_count": null,
   "metadata": {},
   "outputs": [],
   "source": []
  },
  {
   "cell_type": "code",
   "execution_count": null,
   "metadata": {},
   "outputs": [],
   "source": []
  },
  {
   "cell_type": "code",
   "execution_count": null,
   "metadata": {},
   "outputs": [],
   "source": []
  }
 ],
 "metadata": {
  "kernelspec": {
   "display_name": "Python 3",
   "language": "python",
   "name": "python3"
  },
  "language_info": {
   "codemirror_mode": {
    "name": "ipython",
    "version": 3
   },
   "file_extension": ".py",
   "mimetype": "text/x-python",
   "name": "python",
   "nbconvert_exporter": "python",
   "pygments_lexer": "ipython3",
   "version": "3.6.8"
  }
 },
 "nbformat": 4,
 "nbformat_minor": 2
}
