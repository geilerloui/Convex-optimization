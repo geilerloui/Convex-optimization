{
 "cells": [
  {
   "cell_type": "markdown",
   "metadata": {},
   "source": [
    "## Cours Convex Optimization Problem\n",
    "\n"
   ]
  },
  {
   "cell_type": "code",
   "execution_count": null,
   "metadata": {},
   "outputs": [],
   "source": []
  },
  {
   "cell_type": "markdown",
   "metadata": {},
   "source": [
    "### 2. Convex optimization problems\n",
    "\n",
    "#### 2.1 \"Hello World\" in CVX\n",
    "\n",
    "\n",
    "$$\n",
    "minimize~~f_0(x_1, x_2) \\\\\n",
    "s.t.~~ 2x_1 + x_2 \\ge 1 \\\\\n",
    "~~~~ x_1 + 3 x_2 \\ge 1 \\\\\n",
    "~~~~ x_1 \\ge 0, x_2 \\ge 0\n",
    "$$\n",
    "\n",
    "Et les deux fonctions objectifs:\n",
    "\n",
    "$$\n",
    "f_0(x_1, x_2) = x_1 + x_2 \\\\\n",
    "f_0(x_1, x_2) = x_1^2 + 9 x_2^2 \n",
    "$$"
   ]
  },
  {
   "cell_type": "code",
   "execution_count": 3,
   "metadata": {},
   "outputs": [],
   "source": [
    "import cvxpy as cp\n",
    "import numpy as np\n",
    "\n",
    "# Create two scalar optimization variables.\n",
    "x1 = cp.Variable()\n",
    "x2 = cp.Variable()\n",
    "\n",
    "# Create four constraints\n",
    "constraints = [\n",
    "    2*x1 + x2 >=1,\n",
    "    x1 + 3*x2 >= 1,\n",
    "    x1 >= 0,\n",
    "    x2 >= 0\n",
    "]\n"
   ]
  },
  {
   "cell_type": "code",
   "execution_count": 2,
   "metadata": {},
   "outputs": [
    {
     "name": "stdout",
     "output_type": "stream",
     "text": [
      "status: optimal\n",
      "optimal value 0.5999999999116253\n",
      "optimal var 0.3999999999724491 0.1999999999391762\n"
     ]
    }
   ],
   "source": [
    "# Form objective.\n",
    "obj = cp.Minimize(x1 + x2)\n",
    "\n",
    "# Form and solve problem.\n",
    "prob = cp.Problem(obj, constraints)\n",
    "prob.solve()  # Returns the optimal value.\n",
    "print(\"status:\", prob.status)\n",
    "print(\"optimal value\", prob.value)\n",
    "print(\"optimal var\", x1.value, x2.value)"
   ]
  },
  {
   "cell_type": "code",
   "execution_count": 3,
   "metadata": {},
   "outputs": [
    {
     "name": "stdout",
     "output_type": "stream",
     "text": [
      "status: optimal\n",
      "optimal value 0.49999999910199733\n",
      "optimal var 0.49999614401180614 0.16666795201864573\n"
     ]
    }
   ],
   "source": [
    "# Form objective.\n",
    "obj = cp.Minimize(x1**2 + 9*x2**2)\n",
    "\n",
    "# Form and solve problem.\n",
    "prob = cp.Problem(obj, constraints)\n",
    "prob.solve()  # Returns the optimal value.\n",
    "print(\"status:\", prob.status)\n",
    "print(\"optimal value\", prob.value)\n",
    "print(\"optimal var\", x1.value, x2.value)"
   ]
  },
  {
   "cell_type": "markdown",
   "metadata": {},
   "source": [
    "#### 2.2 XXX\n",
    "\n",
    "**The LP relaxation is:**\n",
    "\n",
    "$$\n",
    "minimize~~c^Tx \\\\\n",
    "s.t.~ Ax \\le b \\\\\n",
    "~~~~~~~~~~~ 0 \\le x \\le 1\n",
    "$$\n",
    "\n",
    "Let $x^{rlx}$ be a solution of the LP relaxation, so $L=c^T x^{rlx}$ is a lower bound on $p^*$\n",
    "\n",
    "**Meaning of the variables:**\n",
    "* $x_i$ is a job we either accept or decline\n",
    "* $-c_i$ as the (positive) revenue we generate if we accept job $i$\n",
    "* $Ax \\le b$ as a set of limits on $m$ resources\n",
    "* $A_{ij}$, which is positive, is the amount of resource $i$ consumed if we accept job $j$\n",
    "* $b_i$, which is positive, is the amount of resource $i$ available"
   ]
  },
  {
   "cell_type": "code",
   "execution_count": 4,
   "metadata": {},
   "outputs": [
    {
     "name": "stdout",
     "output_type": "stream",
     "text": [
      "status: optimal\n",
      "optimal value -34.41722425996274\n",
      "optimal var [[1.00000000e+00]\n",
      " [9.50418017e-01]\n",
      " [6.42033899e-11]\n",
      " [1.00000000e+00]\n",
      " [8.10921844e-01]]\n"
     ]
    }
   ],
   "source": [
    "\n",
    "np.random.seed(0)\n",
    "n = 100     \n",
    "m = 300\n",
    "A = np.random.rand(m, n)\n",
    "b = np.matmul(A, np.ones((n, 1)))/2\n",
    "c = -np.random.rand(n, 1)\n",
    "\n",
    "# Create one vector optimization variables.\n",
    "x = cp.Variable((n,1))\n",
    "\n",
    "# Create four constraints\n",
    "constraints = [\n",
    "    A*x <= b,\n",
    "    x <= 1,\n",
    "    x >= 0\n",
    "]\n",
    "\n",
    "# Form objective.\n",
    "obj = cp.Minimize(np.transpose(c) * x)\n",
    "\n",
    "# Form and solve problem.\n",
    "prob = cp.Problem(obj, constraints)\n",
    "prob.solve()  # Returns the optimal value.\n",
    "print(\"status:\", prob.status)\n",
    "print(\"optimal value\", prob.value)\n",
    "# Vector of values generated\n",
    "print(\"optimal var\", x.value[0:5])"
   ]
  },
  {
   "cell_type": "markdown",
   "metadata": {},
   "source": [
    "**Follow-up:** \n",
    "\n",
    "The value $L=-34.417$ is a lower bound on $p^*$\n",
    "\n",
    "**Next exercise:**\n",
    "\n",
    "The relaxed solution $x^{rlx}$ can also be used to guess a Boolean point $\\hat{x}$, by rounding its entries, based on a threshold $t \\in [0,1]$:\n",
    "\n",
    "$$\n",
    "\\hat{x}_i = \n",
    "\\left \\{\n",
    "\\begin{array}{c @{=} c}\n",
    "    1 & x^{rlx} \\ge t \\\\\n",
    "    0 & otherwise \\\\\n",
    "\\end{array}\n",
    "\\right.\n",
    "$$\n",
    "\n",
    "Carry out threshold rounding for (say) 100 values of $t$, uniformly spaced over $[0,1]$. For each value of $t$, note the objective value $c^T \\hat{x}$ and the maximum constraint violation $max_i(A \\hat{x}-b)_i$. Plot the objective value and maximum violation versus $t$."
   ]
  },
  {
   "cell_type": "code",
   "execution_count": 16,
   "metadata": {},
   "outputs": [],
   "source": [
    "t = np.arange(start=0 ,step=0.01 ,stop=1)\n",
    "x_hat = np.ones((100, x.shape[0]))\n",
    "obj_value = np.ones((x.shape[0]))\n",
    "max_viol = np.ones((x.shape[0]))\n",
    "\n",
    "for i in range(0, len(t)):\n",
    "    xhat = (x.value >= t[i])\n",
    "    max_viol[i] = np.amax(np.matmul(A, xhat) - b)\n",
    "    obj_value[i] = np.dot(np.transpose(c), xhat)"
   ]
  },
  {
   "cell_type": "code",
   "execution_count": 17,
   "metadata": {},
   "outputs": [
    {
     "data": {
      "text/plain": [
       "array([28.98074513,  5.39606245,  5.39606245,  5.39606245,  5.39606245,\n",
       "        5.39606245,  5.39606245,  5.39606245,  5.39606245,  5.39606245,\n",
       "        5.08197073,  5.08197073,  5.08197073,  5.08197073,  5.08197073,\n",
       "        5.08197073,  4.51156956,  4.51156956,  4.51156956,  4.51156956,\n",
       "        4.51156956,  3.85762143,  3.85762143,  3.44020674,  3.32159122,\n",
       "        3.32159122,  3.32159122,  3.32159122,  3.32159122,  3.32159122,\n",
       "        3.32159122,  3.32159122,  3.32159122,  3.32159122,  3.32159122,\n",
       "        2.86331737,  2.42783859,  2.42783859,  2.42783859,  2.42783859,\n",
       "        1.53552745,  0.81905256,  0.81905256,  0.81905256,  0.81905256,\n",
       "        0.81905256,  0.81905256,  0.81905256,  0.81905256,  0.81905256,\n",
       "        0.81905256,  0.81905256,  0.05394294,  0.05394294,  0.05394294,\n",
       "        0.05394294, -0.34566714, -0.34566714, -0.34566714, -0.34566714,\n",
       "       -0.34566714, -0.76021376, -0.76021376, -0.76021376, -0.76021376,\n",
       "       -0.76021376, -0.76021376, -0.76021376, -0.76021376, -1.27131684,\n",
       "       -1.27131684, -1.27131684, -1.27131684, -1.27131684, -1.27131684,\n",
       "       -1.587307  , -1.587307  , -1.587307  , -1.587307  , -1.587307  ,\n",
       "       -1.587307  , -1.587307  , -1.8193768 , -1.8193768 , -1.8193768 ,\n",
       "       -1.8193768 , -1.8193768 , -1.8193768 , -1.8193768 , -2.55035803,\n",
       "       -2.55035803, -2.55035803, -2.55035803, -2.55035803, -2.55035803,\n",
       "       -2.55035803, -2.92727573, -2.92727573, -2.92727573, -2.92727573])"
      ]
     },
     "execution_count": 17,
     "metadata": {},
     "output_type": "execute_result"
    }
   ],
   "source": [
    "max_viol"
   ]
  },
  {
   "cell_type": "markdown",
   "metadata": {},
   "source": [
    "t = np.random.rand(100)\n",
    "t = np.arange(start=0 ,step=0.01 ,stop=1)\n",
    "\n",
    "# 1. Computation of x hat\n",
    "# Dimension of x_hat is:\n",
    "# nb of line is 100\n",
    "# nb of columns is dimension of x^rlx\n",
    "x_hat = np.ones((100, x.shape[0]))\n",
    "\n",
    "\n",
    "\n",
    "# Réflechir à comment on pourrait rendre ça plus beau\n",
    "i = 0\n",
    "j = 0\n",
    "\n",
    "for v in t:\n",
    "    for xo in x.value:\n",
    "        if xo < v:\n",
    "            x_hat[i][j] = 0\n",
    "        j = j + 1\n",
    "        \n",
    "    i = i + 1\n",
    "    j = 0\n",
    "    \n",
    "# 2. Computation of the objective function\n",
    "obj_value = np.ones((x.shape[0]))\n",
    "len_obj_value = len(obj_value)   \n",
    "\n",
    "for i in range(0, len_obj_value):\n",
    "    obj_value[i]  = np.dot(np.transpose(c), x_hat[i,:])\n",
    "    \n",
    "# 3. Compute the maximum violation value\n",
    "max_viol = np.ones((x.shape[0]))\n",
    "\n",
    "for i in range(0, len_obj_value):\n",
    "    max_viol[i] = np.amax(np.matmul(A, x_hat[i, :]) - b)"
   ]
  },
  {
   "cell_type": "code",
   "execution_count": 18,
   "metadata": {},
   "outputs": [
    {
     "data": {
      "text/plain": [
       "37.529293515185486"
      ]
     },
     "execution_count": 18,
     "metadata": {},
     "output_type": "execute_result"
    }
   ],
   "source": [
    "np.amax(np.matmul(A, x_hat[8, :])-b)"
   ]
  },
  {
   "cell_type": "code",
   "execution_count": 19,
   "metadata": {},
   "outputs": [
    {
     "data": {
      "image/png": "[encoded data removed]",
      "text/plain": [
       "<Figure size 432x288 with 1 Axes>"
      ]
     },
     "metadata": {
      "needs_background": "light"
     },
     "output_type": "display_data"
    }
   ],
   "source": [
    "sns.lineplot(x=\"t\", y=\"max_viol\", data=df);"
   ]
  },
  {
   "cell_type": "code",
   "execution_count": 20,
   "metadata": {},
   "outputs": [
    {
     "data": {
      "image/png": "[encoded data removed]",
      "text/plain": [
       "<Figure size 432x288 with 1 Axes>"
      ]
     },
     "metadata": {
      "needs_background": "light"
     },
     "output_type": "display_data"
    }
   ],
   "source": [
    "import seaborn as sns\n",
    "import pandas as pd\n",
    "\n",
    "df = pd.DataFrame({'t': t, 'obj_value': obj_value, 'max_viol': max_viol})\n",
    "\n",
    "#ax = sns.scatterplot(x=\"t\", y=\"max_viol\", data=df)\n",
    "\n",
    "# Il est d'usage de rajouter un ; pour enlever le message\n",
    "#sns.scatterplot(x=\"t\", y=\"obj_value\", data=df, ax=ax);\n",
    "\n",
    "sns.lineplot(x=\"t\", y=\"obj_value\", data=df);"
   ]
  },
  {
   "cell_type": "markdown",
   "metadata": {},
   "source": [
    "Find a value of $t$ for which $\\hat{x}$ is feasible, and gives minimum objective value, and note the associated upper bound $U$. What is the gap $U - L$ between the upper bound on $p^*$ and the lower bound on $p^*$.\n",
    "\n",
    "U = min(obj(find(maxviol<=0)))"
   ]
  },
  {
   "cell_type": "code",
   "execution_count": 21,
   "metadata": {},
   "outputs": [],
   "source": [
    "U = min(obj_value[np.where(max_viol <= 0)])"
   ]
  },
  {
   "cell_type": "code",
   "execution_count": 22,
   "metadata": {},
   "outputs": [],
   "source": [
    "L = prob.value"
   ]
  },
  {
   "cell_type": "code",
   "execution_count": 23,
   "metadata": {},
   "outputs": [
    {
     "data": {
      "text/plain": [
       "0.8399729146557178"
      ]
     },
     "execution_count": 23,
     "metadata": {},
     "output_type": "execute_result"
    }
   ],
   "source": [
    "U - L"
   ]
  },
  {
   "cell_type": "markdown",
   "metadata": {},
   "source": [
    "## 2.3 Simple portfolio optimization\n",
    "\n",
    "**Markowitz portfolio optimization:**\n",
    "\n",
    "----\n",
    "\n",
    "We consider a classical portfolio problem with $n$ assets or stocks held over a period of time. We let $x_i$ denote the amount of asset $i$ held throughout the period, with $x_i$ in dollars, at the price at the beginning of the period. A normal long position in asset $i$ corresponds to $x_i \\gt 0$; a short position in asset $i$ (i.e. the obligation to buy the asset at the end of the period) corresponds to $x_i < 0$. We let $p_i$ denote the relative price change of asset $i$ over the period, i.e. its change in price over thee period divided by its price at the beginning of the period. The overall return on the portfolio is $r = p^T x$ (given in dollars). The optimization variable is the portfolio vector $x \\in R ^n $.\n",
    "\n",
    "A wide variety of constraints on the portfolio can be considered. The simplest set of contraints is that $x_i \\ge 0$ (i.e. no short positions) and $\\mathbf{1}^T x = B$ (i.e. the total budget to be invested is $B$, which is often taken to be one).  \n",
    "We take a stochastic model for price changes: $p \\in R^n$ is a random vector, with known mean $ \\bar{p}$ and covariance $ \\Sigma$. Therefore with portfolio $x \\in R^n$, the return $r$ is a (scalar) random variable with mean $\\bar{p}^T x$ and variance $x^T \\Sigma x$. The choice of portfolio $x$ involves a trade-off between the mean of the return, and its variance.\n",
    "\n",
    "The classical portfolio optimization problem, introduced by Markowitz, is the QP.\n",
    "\n",
    "$$\n",
    "minimize~~ x^T \\Sigma x \\\\\n",
    "s.t. ~~ \\bar{p}^T x \\ge r_{min} \\\\\n",
    "~~~~~~ \\mathbf{1}^T x = 1 \\\\\n",
    "~~~~~~ x \\ge 0\n",
    "$$\n",
    "\n",
    "where $x \\in R^n$, the portfolio, is the variable.  Here we find the portfolio that minimizes the return variance (which is associated with the risk of the portfolio) subject to achieving a minimum acceptable mean return $r_{min}$ and satisfying the portfolio budget and no-shorting constraints.\n",
    "\n",
    "**Subject :**\n",
    "\n",
    "----\n",
    "\n",
    "\n",
    "We consider a portfolio optimization problem as described on ```pages 155 and 185–186 of the book```, with data that can be found in the file ```simple_portfolio_data.m```.\n",
    "\n",
    "Find minimum-risk portfolios with the same expected return as the uniform portfolio $x=(1/n) ~ \\mathbf{1}$, with risk measured by portfolio return standard deviation, and the following portfolio constraints (in addition to $ \\mathbf{1}^Tx=1$).\n",
    "\n",
    "> **What is the risk of the uniform portfolio ?**\n"
   ]
  },
  {
   "cell_type": "code",
   "execution_count": 16,
   "metadata": {},
   "outputs": [],
   "source": [
    "# ---- Data Generation ---- #\n",
    "np.random.seed(5)\n",
    "n = 20\n",
    "# Covariance matrix\n",
    "S = np.random.rand(n,n)\n",
    "S = S.T.dot(S)\n",
    "S = S/np.max(np.abs(np.diag(S)))*.2\n",
    "S[:,-1] = 0\n",
    "S[-1,:] = 0\n",
    "\n",
    "# Uniform weight vector\n",
    "x_unif = np.ones((n,1)) / n\n",
    "\n",
    "# Price vector \n",
    "pbar = np.ones((n,1))*.03 + np.array(np.append(np.random.rand(n-1,1),0)).reshape((-1,1))*.12"
   ]
  },
  {
   "cell_type": "code",
   "execution_count": 17,
   "metadata": {},
   "outputs": [],
   "source": [
    "from cvxpy import quad_form\n",
    "from cvxpy import sum as cvxsum"
   ]
  },
  {
   "cell_type": "markdown",
   "metadata": {},
   "source": [
    "According to the [documentation](https://www.cvxpy.org/tutorial/functions/index.html) ```quad_form(x, P)``` is the mathematical expression $x^T P x$ , I guess according to the values of $P$ it knows if we minimize or not.\n",
    "* Below it is the Risk of the optimal portfolio"
   ]
  },
  {
   "cell_type": "code",
   "execution_count": 18,
   "metadata": {},
   "outputs": [
    {
     "data": {
      "text/plain": [
       "0.0974155752296442"
      ]
     },
     "execution_count": 18,
     "metadata": {},
     "output_type": "execute_result"
    }
   ],
   "source": [
    "quad_form(x_unif, S).value"
   ]
  },
  {
   "cell_type": "code",
   "execution_count": 19,
   "metadata": {},
   "outputs": [
    {
     "ename": "NameError",
     "evalue": "name 'unif_risk' is not defined",
     "output_type": "error",
     "traceback": [
      "\u001b[0;31m---------------------------------------------------------------------------\u001b[0m",
      "\u001b[0;31mNameError\u001b[0m                                 Traceback (most recent call last)",
      "\u001b[0;32m<ipython-input-19-e02a40339cb9>\u001b[0m in \u001b[0;36m<module>\u001b[0;34m\u001b[0m\n\u001b[1;32m      1\u001b[0m \u001b[0mx_opt\u001b[0m \u001b[0;34m=\u001b[0m \u001b[0mcp\u001b[0m\u001b[0;34m.\u001b[0m\u001b[0mVariable\u001b[0m\u001b[0;34m(\u001b[0m\u001b[0mn\u001b[0m\u001b[0;34m)\u001b[0m\u001b[0;34m\u001b[0m\u001b[0;34m\u001b[0m\u001b[0m\n\u001b[1;32m      2\u001b[0m \u001b[0mret\u001b[0m \u001b[0;34m=\u001b[0m \u001b[0mx_opt\u001b[0m\u001b[0;34m.\u001b[0m\u001b[0mT\u001b[0m \u001b[0;34m*\u001b[0m \u001b[0mpbar\u001b[0m\u001b[0;34m\u001b[0m\u001b[0;34m\u001b[0m\u001b[0m\n\u001b[0;32m----> 3\u001b[0;31m \u001b[0mconstraints\u001b[0m \u001b[0;34m=\u001b[0m \u001b[0;34m[\u001b[0m\u001b[0mcvxsum\u001b[0m\u001b[0;34m(\u001b[0m\u001b[0mx_opt\u001b[0m\u001b[0;34m)\u001b[0m \u001b[0;34m==\u001b[0m \u001b[0;36m1\u001b[0m\u001b[0;34m,\u001b[0m\u001b[0mret\u001b[0m \u001b[0;34m==\u001b[0m \u001b[0munif_risk\u001b[0m\u001b[0;34m]\u001b[0m\u001b[0;34m\u001b[0m\u001b[0;34m\u001b[0m\u001b[0m\n\u001b[0m\u001b[1;32m      4\u001b[0m \u001b[0mprob\u001b[0m \u001b[0;34m=\u001b[0m \u001b[0mcp\u001b[0m\u001b[0;34m.\u001b[0m\u001b[0mProblem\u001b[0m\u001b[0;34m(\u001b[0m\u001b[0mcp\u001b[0m\u001b[0;34m.\u001b[0m\u001b[0mMinimize\u001b[0m\u001b[0;34m(\u001b[0m\u001b[0mquad_form\u001b[0m\u001b[0;34m(\u001b[0m\u001b[0mx_opt\u001b[0m\u001b[0;34m,\u001b[0m \u001b[0mS\u001b[0m\u001b[0;34m)\u001b[0m\u001b[0;34m)\u001b[0m\u001b[0;34m,\u001b[0m \u001b[0mconstraints\u001b[0m\u001b[0;34m)\u001b[0m\u001b[0;34m\u001b[0m\u001b[0;34m\u001b[0m\u001b[0m\n\u001b[1;32m      5\u001b[0m \u001b[0mprob\u001b[0m\u001b[0;34m.\u001b[0m\u001b[0msolve\u001b[0m\u001b[0;34m(\u001b[0m\u001b[0;34m)\u001b[0m\u001b[0;34m\u001b[0m\u001b[0;34m\u001b[0m\u001b[0m\n",
      "\u001b[0;31mNameError\u001b[0m: name 'unif_risk' is not defined"
     ]
    }
   ],
   "source": [
    "x_opt = cp.Variable(n)\n",
    "ret = x_opt.T * pbar\n",
    "constraints = [cvxsum(x_opt) == 1, ret == unif_risk]\n",
    "prob = cp.Problem(cp.Minimize(quad_form(x_opt, S)), constraints)\n",
    "prob.solve()\n",
    "quad_form(x_opt, S).value"
   ]
  },
  {
   "cell_type": "markdown",
   "metadata": {},
   "source": [
    "> **What is the risk of an optimal portfolio with no (additional) constraints?**\n"
   ]
  },
  {
   "cell_type": "code",
   "execution_count": null,
   "metadata": {},
   "outputs": [],
   "source": []
  },
  {
   "cell_type": "markdown",
   "metadata": {},
   "source": [
    "> **What is the risk of a long-only portfolio** $x \\ge 0$ ?\n"
   ]
  },
  {
   "cell_type": "code",
   "execution_count": null,
   "metadata": {},
   "outputs": [],
   "source": []
  },
  {
   "cell_type": "markdown",
   "metadata": {},
   "source": [
    "> **What is the risk of a portfolio with a limit on total short position:** $\\mathbf{1}^T(x_-) \\leq 0.5$, where $(x_-)_i = \\max\\{-x_i,0\\}$ ?\n"
   ]
  },
  {
   "cell_type": "code",
   "execution_count": null,
   "metadata": {},
   "outputs": [],
   "source": []
  },
  {
   "cell_type": "code",
   "execution_count": null,
   "metadata": {},
   "outputs": [],
   "source": []
  },
  {
   "cell_type": "code",
   "execution_count": null,
   "metadata": {},
   "outputs": [],
   "source": []
  },
  {
   "cell_type": "code",
   "execution_count": null,
   "metadata": {},
   "outputs": [],
   "source": []
  }
 ],
 "metadata": {
  "kernelspec": {
   "display_name": "Python 3",
   "language": "python",
   "name": "python3"
  },
  "language_info": {
   "codemirror_mode": {
    "name": "ipython",
    "version": 3
   },
   "file_extension": ".py",
   "mimetype": "text/x-python",
   "name": "python",
   "nbconvert_exporter": "python",
   "pygments_lexer": "ipython3",
   "version": "3.6.8"
  }
 },
 "nbformat": 4,
 "nbformat_minor": 2
}
