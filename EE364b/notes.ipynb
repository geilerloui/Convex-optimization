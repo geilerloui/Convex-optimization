{
 "cells": [
  {
   "cell_type": "markdown",
   "metadata": {},
   "source": [
    "subgradients: the idea is to deal directly with non differentiability. We will generalize gradient etc on non differentiable problems.\n",
    "\n",
    "quand on veut généraliser l'idée de dérivé de calculus on va avoir deux idées de dérivée (qui seront différentes) mais reliés par convex anaysis (des sorte de dual)\n",
    "* Subgradient\n",
    "\n",
    "--> On peut approximer la fonction par la taylor expansion\n",
    "\n",
    "si non différentiable, on definit un subgradient, \n",
    "\n",
    "subgradients apparait dans plusieurs trucs:\n",
    "* algorithme, résolution de contraintes non différentiable\n",
    "* convex analysis: généralisation des KKT conditions, dualité pour non différentiable\n",
    "\n",
    "**supergradient** si f est concave, on dit que g est le supergradient\n",
    "\n",
    "subdifferential = set of all subgradient at a point\n",
    "si la fonction est différentiable, le subdifferential sera juste égale au singleton du gradient\n",
    "\n",
    "-----\n",
    "graphe qui passe de -1 à 1: on a un kink en 0 sur le graphe du subdifferential, ça correspond à la slope de discontinuité la où ce n'est pas défini\n",
    "\n",
    "**weak subgradient** on trouve uniquement un seul subgradient  \n",
    "**strong subgradient** on trouve tous les subgradients, on calcule le subdifferentiable\n",
    "\n",
    "--> si on peut faire un parse tree de la fonction f(x), il est très simple de le prendre et de calculer les subgradients. Il faut que chaque leaf doit pouvoir calculer un subgradient de chaque leaf"
   ]
  },
  {
   "cell_type": "code",
   "execution_count": null,
   "metadata": {},
   "outputs": [],
   "source": []
  },
  {
   "cell_type": "code",
   "execution_count": null,
   "metadata": {},
   "outputs": [],
   "source": []
  },
  {
   "cell_type": "code",
   "execution_count": null,
   "metadata": {},
   "outputs": [],
   "source": []
  },
  {
   "cell_type": "code",
   "execution_count": null,
   "metadata": {},
   "outputs": [],
   "source": []
  }
 ],
 "metadata": {
  "kernelspec": {
   "display_name": "Python 3",
   "language": "python",
   "name": "python3"
  },
  "language_info": {
   "codemirror_mode": {
    "name": "ipython",
    "version": 3
   },
   "file_extension": ".py",
   "mimetype": "text/x-python",
   "name": "python",
   "nbconvert_exporter": "python",
   "pygments_lexer": "ipython3",
   "version": "3.6.8"
  }
 },
 "nbformat": 4,
 "nbformat_minor": 2
}
