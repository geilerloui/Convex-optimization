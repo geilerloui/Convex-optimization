{
 "cells": [
  {
   "cell_type": "markdown",
   "metadata": {},
   "source": [
    "## 1. Introduction\n",
    "\n",
    "Pas de commentaires.\n",
    "\n",
    "## 2. Convex Sets\n",
    "\n",
    "Connaitre les définitions suivantes:\n",
    "* line et affine set\n",
    "* line segment et convex set\n",
    "* convex combination et convex hull (enveloppe convexe)\n",
    "* conic (nonnegative) combination et convex cone\n",
    "* hyperplane (affine et/ou convexe ?)\n",
    "* halfspaces (affine et/ou convexe ?)\n",
    "* (Euclidean) ball\n",
    "* Ellipsoid\n",
    "* Norm ball et Norm cone (convexe ?)\n",
    "* Polyhedra\n",
    "* Positive semidefinite cone\n",
    "\n",
    "--------\n",
    "\n",
    "Operations that preserve convexity (for sets):\n",
    "* Appliquer la définition d'un convex set et montrer que l'ensemble qui le définit est obtenu à partir de ces opérations:\n",
    "    * intersection\n",
    "    * affine functions\n",
    "    * perspective function\n",
    "    * linear-fractional functions\n",
    "\n",
    "Autre vocab:\n",
    "* Generalized inequalities\n",
    "* minimum element\n",
    "* minimal element\n",
    "* separating hyperplane theorem\n",
    "* supporting hyperplane theorem\n",
    "* Dual cones and generalized inequalities\n",
    "\n",
    "## 3. Convex Functions\n",
    "\n",
    "* definition de base d'une fonction convexe\n",
    "* restriction of a convex function to a line\n",
    "* extended value extension \"f tilde\"\n",
    "* alpha-sublevel set (Ensemble de sous-niveau)\n",
    "* epigraph\n",
    "    * L’épigraphe d’une fonction est l’ensemble des points situés au-dessus de la courbe représentative de la fonction f.\n",
    "\n",
    "Operations that preserve convexity (for functions):\n",
    "* to do\n",
    "\n",
    "Autre vocab:\n",
    "* Perspective: \n",
    "* conjugate: dual, conjugate, adjoint, Transpose veulent sont proches (on fait 2x l'opération on revient au début) \n",
    "* Quasiconvex functions\n",
    "\n",
    "f(x)= cost, nous dit de combien de commodity on a. y est le prix. On veut minimiser le coût des commodity en fonction de mon coût courant "
   ]
  },
  {
   "cell_type": "code",
   "execution_count": null,
   "metadata": {},
   "outputs": [],
   "source": []
  },
  {
   "cell_type": "code",
   "execution_count": null,
   "metadata": {},
   "outputs": [],
   "source": []
  },
  {
   "cell_type": "code",
   "execution_count": null,
   "metadata": {},
   "outputs": [],
   "source": []
  },
  {
   "cell_type": "code",
   "execution_count": null,
   "metadata": {},
   "outputs": [],
   "source": []
  },
  {
   "cell_type": "code",
   "execution_count": null,
   "metadata": {},
   "outputs": [],
   "source": []
  }
 ],
 "metadata": {
  "kernelspec": {
   "display_name": "Python 3",
   "language": "python",
   "name": "python3"
  },
  "language_info": {
   "codemirror_mode": {
    "name": "ipython",
    "version": 3
   },
   "file_extension": ".py",
   "mimetype": "text/x-python",
   "name": "python",
   "nbconvert_exporter": "python",
   "pygments_lexer": "ipython3",
   "version": "3.6.8"
  }
 },
 "nbformat": 4,
 "nbformat_minor": 2
}
